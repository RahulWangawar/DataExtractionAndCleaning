{
 "cells": [
  {
   "cell_type": "code",
   "execution_count": 77,
   "id": "80a712a1-2383-4d15-88ff-b9d61857e343",
   "metadata": {},
   "outputs": [
    {
     "name": "stdout",
     "output_type": "stream",
     "text": [
      "===============\n",
      "AppName: Free time exercise\n",
      "Master: local[*]\n",
      "===============\n"
     ]
    }
   ],
   "source": [
    "import warnings\n",
    "warnings.filterwarnings(\"ignore\")\n",
    "\n",
    "import findspark\n",
    "findspark.init()\n",
    "\n",
    "from pyspark.sql import SparkSession\n",
    "from pyspark.sql.types import IntegerType, Row, ArrayType, StringType\n",
    "import pandas as pd\n",
    "import json\n",
    "import datetime\n",
    "import re\n",
    "\n",
    "master = 'local'\n",
    "appName = 'Free time exercise'\n",
    "\n",
    "spark = SparkSession.builder.appName(appName).getOrCreate()\n",
    "\n",
    "if spark.sparkContext:\n",
    "    print('===============')\n",
    "    print(f'AppName: {spark.sparkContext.appName}')\n",
    "    print(f'Master: {spark.sparkContext.master}')\n",
    "    print('===============')\n",
    "else:\n",
    "    print('Could not initialise pyspark session')\n",
    "    \n",
    "# raw_data = spark.read.option(\"multiline\", \"true\").json(\"file:///home/rahulw/PycharmProjects/Final_Project/Ingestion/Airflow_data_files/sample_part2.json\")\n",
    "df = spark.read.csv(\"file:///home/user1/Pendrive/Data_ingestion/Data_to_be_ingested/batch_2_DL.csv\",header=True)\n",
    "# raw_data.columns\n",
    "\n"
   ]
  },
  {
   "cell_type": "code",
   "execution_count": 2,
   "id": "2e7630b9-8462-432d-b6cf-bb0f74f038d8",
   "metadata": {},
   "outputs": [],
   "source": [
    "# df = raw_data.sample(0.001,True)\n",
    "\n",
    "# df.createOrReplaceTempView(\"table1\")"
   ]
  },
  {
   "cell_type": "code",
   "execution_count": 4,
   "id": "4d8dad41-5b7d-411b-bfca-4819ab09a002",
   "metadata": {},
   "outputs": [
    {
     "name": "stderr",
     "output_type": "stream",
     "text": [
      "                                                                                \r"
     ]
    },
    {
     "name": "stdout",
     "output_type": "stream",
     "text": [
      "<class 'pandas.core.frame.DataFrame'>\n",
      "RangeIndex: 669323 entries, 0 to 669322\n",
      "Data columns (total 24 columns):\n",
      " #   Column                                                           Non-Null Count   Dtype         \n",
      "---  ------                                                           --------------   -----         \n",
      " 0   ID                                                               669323 non-null  object        \n",
      " 1   Name of DL Holder                                                669323 non-null  object        \n",
      " 2   D.L. No.                                                         669323 non-null  object        \n",
      " 3   DOB                                                              669323 non-null  object        \n",
      " 4   Gender                                                           669323 non-null  object        \n",
      " 5   Permanent Address                                                669323 non-null  object        \n",
      " 6   Temporary Address                                                265927 non-null  object        \n",
      " 7   Email ID                                                         669323 non-null  object        \n",
      " 8   Mobile                                                           669323 non-null  object        \n",
      " 9   Blood Group                                                      669322 non-null  object        \n",
      " 10  Identification marks                                             669323 non-null  object        \n",
      " 11  Place of birth                                                   669322 non-null  object        \n",
      " 12  Country citizenship                                              669323 non-null  object        \n",
      " 13  NPR No.                                                          25 non-null      object        \n",
      " 14  Bio-ID                                                           25 non-null      object        \n",
      " 15  Concatenated name and parts                                      25 non-null      object        \n",
      " 16  Qualification code                                               669308 non-null  object        \n",
      " 17  Dependent relationship with the applicant                        669299 non-null  object        \n",
      " 18  Applicant relative name and parts                                669298 non-null  object        \n",
      " 19  Present village/District code/Present location type              15 non-null      object        \n",
      " 20  Temporary village or town/District code/temporary location type  24 non-null      object        \n",
      " 21  Permanent temporary sub district code                            25 non-null      object        \n",
      " 22  State code                                                       669308 non-null  object        \n",
      " 23  pd_date                                                          669323 non-null  datetime64[ns]\n",
      "dtypes: datetime64[ns](1), object(23)\n",
      "memory usage: 122.6+ MB\n"
     ]
    }
   ],
   "source": [
    "import pandas as pd\n",
    "pd_df = df.toPandas()\n",
    "\n",
    "pd_df['pd_date'] = pd.to_datetime(pd_df['DOB'])\n",
    "pd_df.info()"
   ]
  },
  {
   "cell_type": "code",
   "execution_count": 5,
   "id": "31510d1a-5eae-4f47-9da9-6202dc131e32",
   "metadata": {},
   "outputs": [
    {
     "data": {
      "text/html": [
       "<div>\n",
       "<style scoped>\n",
       "    .dataframe tbody tr th:only-of-type {\n",
       "        vertical-align: middle;\n",
       "    }\n",
       "\n",
       "    .dataframe tbody tr th {\n",
       "        vertical-align: top;\n",
       "    }\n",
       "\n",
       "    .dataframe thead th {\n",
       "        text-align: right;\n",
       "    }\n",
       "</style>\n",
       "<table border=\"1\" class=\"dataframe\">\n",
       "  <thead>\n",
       "    <tr style=\"text-align: right;\">\n",
       "      <th></th>\n",
       "      <th>ID</th>\n",
       "      <th>Name of DL Holder</th>\n",
       "      <th>D.L. No.</th>\n",
       "      <th>DOB</th>\n",
       "      <th>Gender</th>\n",
       "      <th>Permanent Address</th>\n",
       "      <th>Temporary Address</th>\n",
       "      <th>Email ID</th>\n",
       "      <th>Mobile</th>\n",
       "      <th>Blood Group</th>\n",
       "      <th>...</th>\n",
       "      <th>Bio-ID</th>\n",
       "      <th>Concatenated name and parts</th>\n",
       "      <th>Qualification code</th>\n",
       "      <th>Dependent relationship with the applicant</th>\n",
       "      <th>Applicant relative name and parts</th>\n",
       "      <th>Present village/District code/Present location type</th>\n",
       "      <th>Temporary village or town/District code/temporary location type</th>\n",
       "      <th>Permanent temporary sub district code</th>\n",
       "      <th>State code</th>\n",
       "      <th>pd_date</th>\n",
       "    </tr>\n",
       "  </thead>\n",
       "  <tbody>\n",
       "    <tr>\n",
       "      <th>0</th>\n",
       "      <td>1</td>\n",
       "      <td>Alita Kumari</td>\n",
       "      <td>AP10 20198496335</td>\n",
       "      <td>02/07/1992</td>\n",
       "      <td>2</td>\n",
       "      <td>T 147, 4 Floor, Paramjit City, Plot 37, Udipti...</td>\n",
       "      <td>The White House, Sahid Marg, Sector Number- 25...</td>\n",
       "      <td>alita@zohomail.com</td>\n",
       "      <td>7349665864</td>\n",
       "      <td>B-</td>\n",
       "      <td>...</td>\n",
       "      <td>None</td>\n",
       "      <td>None</td>\n",
       "      <td>0</td>\n",
       "      <td>F</td>\n",
       "      <td>Vinay Dhamale</td>\n",
       "      <td>None</td>\n",
       "      <td>None</td>\n",
       "      <td>None</td>\n",
       "      <td>AP</td>\n",
       "      <td>1992-02-07</td>\n",
       "    </tr>\n",
       "    <tr>\n",
       "      <th>1</th>\n",
       "      <td>3</td>\n",
       "      <td>Balvan Bharose Holla</td>\n",
       "      <td>KA21 20037324125</td>\n",
       "      <td>13/10/1978</td>\n",
       "      <td>1</td>\n",
       "      <td>E/129, 2 Floor, Saroz Nagar, Lalasa Lane, Behi...</td>\n",
       "      <td>None</td>\n",
       "      <td>balvanholla@protonmail.com</td>\n",
       "      <td>8707498696</td>\n",
       "      <td>A+</td>\n",
       "      <td>...</td>\n",
       "      <td>None</td>\n",
       "      <td>None</td>\n",
       "      <td>8</td>\n",
       "      <td>F</td>\n",
       "      <td>Asiwani Holla</td>\n",
       "      <td>None</td>\n",
       "      <td>None</td>\n",
       "      <td>None</td>\n",
       "      <td>KA</td>\n",
       "      <td>1978-10-13</td>\n",
       "    </tr>\n",
       "    <tr>\n",
       "      <th>2</th>\n",
       "      <td>4</td>\n",
       "      <td>Komali De Soogoor</td>\n",
       "      <td>WB21 20189103941</td>\n",
       "      <td>22/07/1994</td>\n",
       "      <td>0</td>\n",
       "      <td>P 146, 4 Floor, Thuvaradran Complex, Plot 17, ...</td>\n",
       "      <td>Tamanna, Agnikumara Lane, Nr. Sangeeta Market,...</td>\n",
       "      <td>komali.soogoor1994@hotmail.com</td>\n",
       "      <td>7614314222</td>\n",
       "      <td>AB+</td>\n",
       "      <td>...</td>\n",
       "      <td>None</td>\n",
       "      <td>None</td>\n",
       "      <td>10</td>\n",
       "      <td>O</td>\n",
       "      <td>Adhishri Soogoor</td>\n",
       "      <td>None</td>\n",
       "      <td>None</td>\n",
       "      <td>None</td>\n",
       "      <td>WB</td>\n",
       "      <td>1994-07-22</td>\n",
       "    </tr>\n",
       "  </tbody>\n",
       "</table>\n",
       "<p>3 rows × 24 columns</p>\n",
       "</div>"
      ],
      "text/plain": [
       "  ID     Name of DL Holder          D.L. No.         DOB Gender  \\\n",
       "0  1         Alita Kumari   AP10 20198496335  02/07/1992      2   \n",
       "1  3  Balvan Bharose Holla  KA21 20037324125  13/10/1978      1   \n",
       "2  4     Komali De Soogoor  WB21 20189103941  22/07/1994      0   \n",
       "\n",
       "                                   Permanent Address  \\\n",
       "0  T 147, 4 Floor, Paramjit City, Plot 37, Udipti...   \n",
       "1  E/129, 2 Floor, Saroz Nagar, Lalasa Lane, Behi...   \n",
       "2  P 146, 4 Floor, Thuvaradran Complex, Plot 17, ...   \n",
       "\n",
       "                                   Temporary Address  \\\n",
       "0  The White House, Sahid Marg, Sector Number- 25...   \n",
       "1                                               None   \n",
       "2  Tamanna, Agnikumara Lane, Nr. Sangeeta Market,...   \n",
       "\n",
       "                         Email ID      Mobile Blood Group  ... Bio-ID  \\\n",
       "0              alita@zohomail.com  7349665864          B-  ...   None   \n",
       "1      balvanholla@protonmail.com  8707498696          A+  ...   None   \n",
       "2  komali.soogoor1994@hotmail.com  7614314222         AB+  ...   None   \n",
       "\n",
       "  Concatenated name and parts Qualification code  \\\n",
       "0                        None                  0   \n",
       "1                        None                  8   \n",
       "2                        None                 10   \n",
       "\n",
       "  Dependent relationship with the applicant Applicant relative name and parts  \\\n",
       "0                                         F                     Vinay Dhamale   \n",
       "1                                         F                     Asiwani Holla   \n",
       "2                                         O                  Adhishri Soogoor   \n",
       "\n",
       "  Present village/District code/Present location type  \\\n",
       "0                                               None    \n",
       "1                                               None    \n",
       "2                                               None    \n",
       "\n",
       "  Temporary village or town/District code/temporary location type  \\\n",
       "0                                               None                \n",
       "1                                               None                \n",
       "2                                               None                \n",
       "\n",
       "  Permanent temporary sub district code State code    pd_date  \n",
       "0                                  None         AP 1992-02-07  \n",
       "1                                  None         KA 1978-10-13  \n",
       "2                                  None         WB 1994-07-22  \n",
       "\n",
       "[3 rows x 24 columns]"
      ]
     },
     "execution_count": 5,
     "metadata": {},
     "output_type": "execute_result"
    }
   ],
   "source": [
    "pd_df.head(3)"
   ]
  },
  {
   "cell_type": "code",
   "execution_count": 16,
   "id": "d3f12d51-6b6c-4a3a-abf3-37e54c58220a",
   "metadata": {},
   "outputs": [],
   "source": [
    "# pd_df[\"new_dob_1\"] = pd.to_datetime(pd_df[\"DOB\"], format='%d%m%Y')"
   ]
  },
  {
   "cell_type": "code",
   "execution_count": 15,
   "id": "fd971c65-4da9-41f5-ab89-07da6dd07522",
   "metadata": {},
   "outputs": [
    {
     "data": {
      "text/plain": [
       "datetime.datetime(1992, 2, 7, 0, 0)"
      ]
     },
     "execution_count": 15,
     "metadata": {},
     "output_type": "execute_result"
    }
   ],
   "source": [
    "from datetime import datetime\n",
    "datetime.strptime('02/07/1992', '%m/%d/%Y')"
   ]
  },
  {
   "cell_type": "code",
   "execution_count": 12,
   "id": "95bec6a7-bdcc-42d3-95f2-ce451f23811c",
   "metadata": {},
   "outputs": [],
   "source": [
    "# spark.sql(\"select * from table1\").show(2)"
   ]
  },
  {
   "cell_type": "code",
   "execution_count": 14,
   "id": "f1fcc3f8-c56b-4f73-ba1d-b4c5de92b5d8",
   "metadata": {},
   "outputs": [],
   "source": [
    "# df.show(2)"
   ]
  },
  {
   "cell_type": "code",
   "execution_count": 6,
   "id": "789d78b0-cf9d-4a5e-aa05-d85b4ea7461b",
   "metadata": {},
   "outputs": [
    {
     "name": "stderr",
     "output_type": "stream",
     "text": [
      "                                                                                \r"
     ]
    },
    {
     "data": {
      "text/plain": [
       "True"
      ]
     },
     "execution_count": 6,
     "metadata": {},
     "output_type": "execute_result"
    }
   ],
   "source": [
    "df2 = spark.table(\"table1\")\n",
    "\n",
    "sorted(df.collect()) == sorted(df2.collect())"
   ]
  },
  {
   "cell_type": "code",
   "execution_count": 29,
   "id": "fcf39679-c7b0-4aff-8776-a76fede12cbc",
   "metadata": {},
   "outputs": [
    {
     "data": {
      "text/plain": [
       "['ID',\n",
       " 'Name of DL Holder',\n",
       " 'D.L. No.',\n",
       " 'DOB',\n",
       " 'Gender',\n",
       " 'Permanent Address',\n",
       " 'Temporary Address',\n",
       " 'Email ID',\n",
       " 'Mobile',\n",
       " 'Blood Group',\n",
       " 'Identification marks',\n",
       " 'Place of birth',\n",
       " 'Country citizenship',\n",
       " 'NPR No.',\n",
       " 'Bio-ID',\n",
       " 'Concatenated name and parts',\n",
       " 'Qualification code',\n",
       " 'Dependent relationship with the applicant',\n",
       " 'Applicant relative name and parts',\n",
       " 'Present village/District code/Present location type',\n",
       " 'Temporary village or town/District code/temporary location type',\n",
       " 'Permanent temporary sub district code',\n",
       " 'State code']"
      ]
     },
     "execution_count": 29,
     "metadata": {},
     "output_type": "execute_result"
    }
   ],
   "source": [
    "df.columns"
   ]
  },
  {
   "cell_type": "code",
   "execution_count": 15,
   "id": "c1a6e4ac-d588-4772-96cf-1f64b9526b10",
   "metadata": {},
   "outputs": [],
   "source": [
    "path = \"file:///home/user1/Pendrive/Data_ingestion/Data_to_be_ingested/batch_2_DL.csv\""
   ]
  },
  {
   "cell_type": "code",
   "execution_count": 19,
   "id": "c569d82a-691c-4bcc-9477-cc8472f53e35",
   "metadata": {},
   "outputs": [],
   "source": [
    "# df3 = spark.read.csv(path, schema=None, sep=None, encoding=None, quote=None, escape=None, comment=None, header=True, inferSchema=None, ignoreLeadingWhiteSpace=True, ignoreTrailingWhiteSpace=True, nullValue=False, nanValue=False, positiveInf=None, negativeInf=None, dateFormat=None, timestampFormat=None, maxColumns=None, maxCharsPerColumn=None, maxMalformedLogPerPartition=None, mode=None, columnNameOfCorruptRecord=None, multiLine=None, charToEscapeQuoteEscaping=None, samplingRatio=None, enforceSchema=None, emptyValue=None, locale=None, lineSep=None, pathGlobFilter=None, recursiveFileLookup=None, modifiedBefore=None, modifiedAfter=None, unescapedQuoteHandling=None)"
   ]
  },
  {
   "cell_type": "code",
   "execution_count": 21,
   "id": "5c2c71ce-06ea-466b-b6b4-30a2ee207036",
   "metadata": {},
   "outputs": [],
   "source": [
    "import dateutil.parser\n",
    "def change_date_format(arguments):\n",
    "    try:\n",
    "        if arguments:\n",
    "            yourdate = dateutil.parser.parse(arguments)\n",
    "            oldformat = yourdate\n",
    "            datetimeobject = datetime.strptime(str(oldformat),'%Y-%m-%d  %H:%M:%S')\n",
    "            newformat = datetimeobject.strftime('%d-%m-%Y')\n",
    "            return newformat\n",
    "        else:\n",
    "            pass\n",
    "    except Exception as e:\n",
    "        pass"
   ]
  },
  {
   "cell_type": "code",
   "execution_count": 27,
   "id": "f22c0652-e2c5-4b9e-b836-a424adbc0701",
   "metadata": {},
   "outputs": [],
   "source": [
    "from pyspark.sql.functions import *\n",
    "date_udf = udf(change_date_format)\n",
    "df = df.withColumn('New_Date_of_Birth', date_udf(df.DOB))"
   ]
  },
  {
   "cell_type": "code",
   "execution_count": 34,
   "id": "4ab6fa6d-229c-4fca-8d56-a8c6ad0cd4d7",
   "metadata": {},
   "outputs": [],
   "source": [
    "from pyspark.sql.types import DateType\n",
    "# df.select(col(\"DOB\"), date_format(col(\"DOB\"), \"MM-dd-yyyy\").alias(\"new_dob_format\")).show()\n",
    "df = df.withColumn(\"new_dob\",df.DOB.cast(DateType()))"
   ]
  },
  {
   "cell_type": "code",
   "execution_count": 39,
   "id": "6d778a76-b829-4632-aef0-924fa65375df",
   "metadata": {},
   "outputs": [],
   "source": [
    "# df.select(\"new_dob\").show()"
   ]
  },
  {
   "cell_type": "code",
   "execution_count": 42,
   "id": "5681c15d-5ecf-40db-899d-693b389e0244",
   "metadata": {},
   "outputs": [
    {
     "name": "stdout",
     "output_type": "stream",
     "text": [
      "<class 'pandas.core.frame.DataFrame'>\n",
      "RangeIndex: 650 entries, 0 to 649\n",
      "Data columns (total 26 columns):\n",
      " #   Column                                                           Non-Null Count  Dtype         \n",
      "---  ------                                                           --------------  -----         \n",
      " 0   ID                                                               650 non-null    object        \n",
      " 1   Name of DL Holder                                                650 non-null    object        \n",
      " 2   D.L. No.                                                         650 non-null    object        \n",
      " 3   DOB                                                              650 non-null    object        \n",
      " 4   Gender                                                           650 non-null    object        \n",
      " 5   Permanent Address                                                650 non-null    object        \n",
      " 6   Temporary Address                                                251 non-null    object        \n",
      " 7   Email ID                                                         650 non-null    object        \n",
      " 8   Mobile                                                           650 non-null    object        \n",
      " 9   Blood Group                                                      650 non-null    object        \n",
      " 10  Identification marks                                             650 non-null    object        \n",
      " 11  Place of birth                                                   650 non-null    object        \n",
      " 12  Country citizenship                                              650 non-null    object        \n",
      " 13  NPR No.                                                          0 non-null      object        \n",
      " 14  Bio-ID                                                           0 non-null      object        \n",
      " 15  Concatenated name and parts                                      0 non-null      object        \n",
      " 16  Qualification code                                               650 non-null    object        \n",
      " 17  Dependent relationship with the applicant                        650 non-null    object        \n",
      " 18  Applicant relative name and parts                                650 non-null    object        \n",
      " 19  Present village/District code/Present location type              0 non-null      object        \n",
      " 20  Temporary village or town/District code/temporary location type  0 non-null      object        \n",
      " 21  Permanent temporary sub district code                            0 non-null      object        \n",
      " 22  State code                                                       650 non-null    object        \n",
      " 23  New_Date_of_Birth                                                0 non-null      object        \n",
      " 24  new_dob                                                          0 non-null      object        \n",
      " 25  pd_date                                                          650 non-null    datetime64[ns]\n",
      "dtypes: datetime64[ns](1), object(25)\n",
      "memory usage: 132.2+ KB\n"
     ]
    }
   ],
   "source": [
    "pd_df['pd_date'] = pd.to_datetime(pd_df['DOB'])\n",
    "pd_df.info()"
   ]
  },
  {
   "cell_type": "code",
   "execution_count": 23,
   "id": "8356d9c3-4337-4f98-927c-87743634fbae",
   "metadata": {},
   "outputs": [],
   "source": [
    "import dateutil.parser\n",
    "def change_date_format(arguments):\n",
    "    try:\n",
    "        if arguments:\n",
    "            yourdate = dateutil.parser.parse(arguments)\n",
    "            oldformat = yourdate\n",
    "            datetimeobject = datetime.strptime(str(oldformat),'%Y-%m-%d  %H:%M:%S')\n",
    "            newformat = datetimeobject.strftime('%d-%m-%Y')\n",
    "            return newformat\n",
    "        else:\n",
    "            pass\n",
    "    except Exception as e:\n",
    "        pass"
   ]
  },
  {
   "cell_type": "code",
   "execution_count": 30,
   "id": "97831410-5875-488a-b933-431520a44e8b",
   "metadata": {},
   "outputs": [],
   "source": [
    "from pyspark.sql.functions import udf\n",
    "date_udf = udf(change_date_format)\n",
    "df = df.withColumn('New_Date_of_Birth', date_udf(df.DOB))"
   ]
  },
  {
   "cell_type": "code",
   "execution_count": 31,
   "id": "4eed015f-1f59-4068-88d8-fd0788f43313",
   "metadata": {},
   "outputs": [
    {
     "name": "stderr",
     "output_type": "stream",
     "text": [
      "[Stage 4:>                                                          (0 + 1) / 1]\r"
     ]
    },
    {
     "name": "stdout",
     "output_type": "stream",
     "text": [
      "+----------+-----------------+\n",
      "|       DOB|New_Date_of_Birth|\n",
      "+----------+-----------------+\n",
      "|02/07/1992|       07-02-1992|\n",
      "|13/10/1978|       13-10-1978|\n",
      "|22/07/1994|       22-07-1994|\n",
      "|24/09/1983|       24-09-1983|\n",
      "|09/06/1982|       06-09-1982|\n",
      "|12/09/1975|       09-12-1975|\n",
      "|04/03/1991|       03-04-1991|\n",
      "|27/12/2002|       27-12-2002|\n",
      "|16/02/1991|       16-02-1991|\n",
      "|03/07/2000|       07-03-2000|\n",
      "|02/11/1975|       11-02-1975|\n",
      "|22/05/2001|       22-05-2001|\n",
      "|26/03/1982|       26-03-1982|\n",
      "|22/04/1999|       22-04-1999|\n",
      "|15/03/1994|       15-03-1994|\n",
      "|29/10/1990|       29-10-1990|\n",
      "|20/10/1986|       20-10-1986|\n",
      "|29/07/1983|       29-07-1983|\n",
      "|16/01/2002|       16-01-2002|\n",
      "|01/08/1994|       08-01-1994|\n",
      "+----------+-----------------+\n",
      "only showing top 20 rows\n",
      "\n"
     ]
    },
    {
     "name": "stderr",
     "output_type": "stream",
     "text": [
      "                                                                                \r"
     ]
    }
   ],
   "source": [
    "df.select(\"DOB\",\"New_Date_of_Birth\").show()"
   ]
  },
  {
   "cell_type": "code",
   "execution_count": 86,
   "id": "f06cc30b-fb68-42b8-90e9-341cdfe63b26",
   "metadata": {},
   "outputs": [],
   "source": [
    "import sys\n",
    "import os"
   ]
  },
  {
   "cell_type": "code",
   "execution_count": 89,
   "id": "68745049-d286-4cca-80b8-0740dccc54f1",
   "metadata": {},
   "outputs": [
    {
     "data": {
      "text/plain": [
       "0"
      ]
     },
     "execution_count": 89,
     "metadata": {},
     "output_type": "execute_result"
    }
   ],
   "source": [
    "table = 'aaa'\n",
    "csv_path = '/home/user1/Downloads/' + table + '.csv'\n",
    "os.system(\"touch \"+csv_path)"
   ]
  },
  {
   "cell_type": "code",
   "execution_count": 39,
   "id": "072fd245-1408-429b-b181-6153897636aa",
   "metadata": {},
   "outputs": [
    {
     "name": "stderr",
     "output_type": "stream",
     "text": [
      "sudo: a terminal is required to read the password; either use the -S option to read from standard input or configure an askpass helper\n"
     ]
    },
    {
     "data": {
      "text/plain": [
       "256"
      ]
     },
     "execution_count": 39,
     "metadata": {},
     "output_type": "execute_result"
    }
   ],
   "source": [
    "# os.system(\"sudo apt install mdbtools\")"
   ]
  },
  {
   "cell_type": "code",
   "execution_count": 40,
   "id": "344b042b-502e-471a-887f-e61a5aa97db7",
   "metadata": {},
   "outputs": [
    {
     "name": "stdout",
     "output_type": "stream",
     "text": [
      "Collecting meza\n",
      "  Downloading meza-0.46.0-py2.py3-none-any.whl (56 kB)\n",
      "\u001b[K     |████████████████████████████████| 56 kB 633 kB/s eta 0:00:01\n",
      "\u001b[?25hCollecting dbfread==2.0.4\n",
      "  Downloading dbfread-2.0.4-py2.py3-none-any.whl (19 kB)\n",
      "Requirement already satisfied: python-dateutil<3.0.0,>=2.7.2 in /home/user1/anaconda3/lib/python3.9/site-packages (from meza) (2.8.2)\n",
      "Collecting python-slugify<2.0.0,>=1.2.5\n",
      "  Downloading python-slugify-1.2.6.tar.gz (6.8 kB)\n",
      "Requirement already satisfied: requests<3.0.0,>=2.18.4 in /home/user1/anaconda3/lib/python3.9/site-packages (from meza) (2.26.0)\n",
      "Collecting xlrd<2.0.0,>=1.1.0\n",
      "  Downloading xlrd-1.2.0-py2.py3-none-any.whl (103 kB)\n",
      "\u001b[K     |████████████████████████████████| 103 kB 2.3 MB/s eta 0:00:01\n",
      "\u001b[?25hCollecting ijson<3.0.0,>=2.3\n",
      "  Downloading ijson-2.6.1.tar.gz (29 kB)\n",
      "Collecting PyYAML<6.0.0,>=4.2b1\n",
      "  Downloading PyYAML-5.4.1-cp39-cp39-manylinux1_x86_64.whl (630 kB)\n",
      "\u001b[K     |████████████████████████████████| 630 kB 896 kB/s eta 0:00:01\n",
      "\u001b[?25hCollecting pygogo<2.0.0,>=0.13.2\n",
      "  Downloading pygogo-1.3.0-py2.py3-none-any.whl (21 kB)\n",
      "Collecting chardet<4.0.0,>=3.0.4\n",
      "  Downloading chardet-3.0.4-py2.py3-none-any.whl (133 kB)\n",
      "\u001b[K     |████████████████████████████████| 133 kB 1.2 MB/s eta 0:00:01\n",
      "\u001b[?25hRequirement already satisfied: beautifulsoup4<5.0.0,>=4.6.0 in /home/user1/anaconda3/lib/python3.9/site-packages (from meza) (4.10.0)\n",
      "Requirement already satisfied: soupsieve>1.2 in /home/user1/anaconda3/lib/python3.9/site-packages (from beautifulsoup4<5.0.0,>=4.6.0->meza) (2.2.1)\n",
      "Requirement already satisfied: six>=1.5 in /home/user1/anaconda3/lib/python3.9/site-packages (from python-dateutil<3.0.0,>=2.7.2->meza) (1.16.0)\n",
      "Requirement already satisfied: Unidecode>=0.04.16 in /home/user1/anaconda3/lib/python3.9/site-packages (from python-slugify<2.0.0,>=1.2.5->meza) (1.2.0)\n",
      "Requirement already satisfied: certifi>=2017.4.17 in /home/user1/anaconda3/lib/python3.9/site-packages (from requests<3.0.0,>=2.18.4->meza) (2021.10.8)\n",
      "Requirement already satisfied: urllib3<1.27,>=1.21.1 in /home/user1/anaconda3/lib/python3.9/site-packages (from requests<3.0.0,>=2.18.4->meza) (1.26.7)\n",
      "Requirement already satisfied: charset-normalizer~=2.0.0 in /home/user1/anaconda3/lib/python3.9/site-packages (from requests<3.0.0,>=2.18.4->meza) (2.0.4)\n",
      "Requirement already satisfied: idna<4,>=2.5 in /home/user1/anaconda3/lib/python3.9/site-packages (from requests<3.0.0,>=2.18.4->meza) (3.2)\n",
      "Building wheels for collected packages: ijson, python-slugify\n",
      "  Building wheel for ijson (setup.py) ... \u001b[?25ldone\n",
      "\u001b[?25h  Created wheel for ijson: filename=ijson-2.6.1-py3-none-any.whl size=17443 sha256=673eacf775454dc9f524c1d1ad125e2058ca3b854cc147e77b3c671010451814\n",
      "  Stored in directory: /home/user1/.cache/pip/wheels/d9/bf/75/d521a020ef274e6e95a67d5cc167bd26a485a72b296ac06c20\n",
      "  Building wheel for python-slugify (setup.py) ... \u001b[?25ldone\n",
      "\u001b[?25h  Created wheel for python-slugify: filename=python_slugify-1.2.6-py2.py3-none-any.whl size=4609 sha256=3f3abcd0587f71b8be06478b6655ae227181fddabc80d303c84230307cf5d320\n",
      "  Stored in directory: /home/user1/.cache/pip/wheels/f6/93/e2/71ef4b74b771520f05ba206cb557a4b04d017dc0ccb84606fe\n",
      "Successfully built ijson python-slugify\n",
      "Installing collected packages: xlrd, PyYAML, python-slugify, pygogo, ijson, dbfread, chardet, meza\n",
      "  Attempting uninstall: xlrd\n",
      "    Found existing installation: xlrd 2.0.1\n",
      "    Uninstalling xlrd-2.0.1:\n",
      "      Successfully uninstalled xlrd-2.0.1\n",
      "  Attempting uninstall: PyYAML\n",
      "    Found existing installation: PyYAML 6.0\n",
      "    Uninstalling PyYAML-6.0:\n",
      "      Successfully uninstalled PyYAML-6.0\n",
      "  Attempting uninstall: python-slugify\n",
      "    Found existing installation: python-slugify 5.0.2\n",
      "    Uninstalling python-slugify-5.0.2:\n",
      "      Successfully uninstalled python-slugify-5.0.2\n",
      "  Attempting uninstall: chardet\n",
      "    Found existing installation: chardet 4.0.0\n",
      "    Uninstalling chardet-4.0.0:\n",
      "      Successfully uninstalled chardet-4.0.0\n",
      "\u001b[31mERROR: pip's dependency resolver does not currently take into account all the packages that are installed. This behaviour is the source of the following dependency conflicts.\n",
      "spyder 5.1.5 requires pyqt5<5.13, which is not installed.\n",
      "spyder 5.1.5 requires pyqtwebengine<5.13, which is not installed.\n",
      "conda-repo-cli 1.0.4 requires pathlib, which is not installed.\n",
      "cookiecutter 1.7.2 requires python-slugify>=4.0.0, but you have python-slugify 1.2.6 which is incompatible.\u001b[0m\n",
      "Successfully installed PyYAML-5.4.1 chardet-3.0.4 dbfread-2.0.4 ijson-2.6.1 meza-0.46.0 pygogo-1.3.0 python-slugify-1.2.6 xlrd-1.2.0\n"
     ]
    }
   ],
   "source": [
    "!pip install meza"
   ]
  },
  {
   "cell_type": "code",
   "execution_count": 56,
   "id": "3e4b0fa2-3aed-4274-a8e3-d2aa7570bed7",
   "metadata": {},
   "outputs": [
    {
     "ename": "SyntaxError",
     "evalue": "invalid syntax (3037432022.py, line 5)",
     "output_type": "error",
     "traceback": [
      "\u001b[0;36m  File \u001b[0;32m\"/tmp/ipykernel_16559/3037432022.py\"\u001b[0;36m, line \u001b[0;32m5\u001b[0m\n\u001b[0;31m    rec = io.read_mdb(\"/home/user1/Downloads/campaign_template1/Campaign_Template.mdb\").\u001b[0m\n\u001b[0m                                                                                        ^\u001b[0m\n\u001b[0;31mSyntaxError\u001b[0m\u001b[0;31m:\u001b[0m invalid syntax\n"
     ]
    }
   ],
   "source": [
    "from meza import io\n",
    "records = io.read(\"/home/user1/Downloads/campaign_template1/Campaign_Template.mdb\")\n",
    "\n",
    "# print(next(records))\n",
    "rec = io.read_mdb(\"/home/user1/Downloads/campaign_template1/Campaign_Template.mdb\")\n"
   ]
  },
  {
   "cell_type": "code",
   "execution_count": 57,
   "id": "734fad9b-a624-46de-98d4-689286bf576a",
   "metadata": {},
   "outputs": [
    {
     "name": "stdout",
     "output_type": "stream",
     "text": [
      "Collecting mdb_parser\n",
      "  Downloading mdb_parser-0.0.3.tar.gz (2.0 kB)\n",
      "Building wheels for collected packages: mdb-parser\n",
      "  Building wheel for mdb-parser (setup.py) ... \u001b[?25ldone\n",
      "\u001b[?25h  Created wheel for mdb-parser: filename=mdb_parser-0.0.3-py3-none-any.whl size=2277 sha256=8c6981903f5172c7549a3d1aaf9a7a3dc25fa159a30dc3af93f310e810f78fb2\n",
      "  Stored in directory: /home/user1/.cache/pip/wheels/21/ea/8b/a56b63662291d32f4460e5fb6a70808de0b1fb9d2266f96775\n",
      "Successfully built mdb-parser\n",
      "Installing collected packages: mdb-parser\n",
      "Successfully installed mdb-parser-0.0.3\n"
     ]
    }
   ],
   "source": [
    "!pip install mdb_parser"
   ]
  },
  {
   "cell_type": "code",
   "execution_count": 82,
   "id": "921e2aa2-c33c-444e-91f8-e6002cc0cec9",
   "metadata": {},
   "outputs": [],
   "source": [
    "template = \"/home/user1/Downloads/campaign_template1/Campaign_Template.mdb\""
   ]
  },
  {
   "cell_type": "code",
   "execution_count": 65,
   "id": "c5e614c2-59ec-45c7-a6d8-b01d2c2c3a62",
   "metadata": {},
   "outputs": [],
   "source": [
    "sample = \"/home/user1/Downloads/sample.mdb\""
   ]
  },
  {
   "cell_type": "code",
   "execution_count": null,
   "id": "fa412192-ab38-47fd-a848-eed1facc2c04",
   "metadata": {},
   "outputs": [],
   "source": [
    "import os\n",
    "from mdb_parser import MDBParser, MDBTable\n",
    "tables= []\n",
    "def mdb_to_txt(mdb_file):\n",
    "    db = MDBParser(file_path=mdb_file)\n",
    "    tables = db.tables\n",
    "    for table in tables:\n",
    "        "
   ]
  },
  {
   "cell_type": "markdown",
   "id": "c7c41169-1839-430c-a262-28ddb4c3c7d0",
   "metadata": {},
   "source": [
    "### Converting mdb file's tables into csv format"
   ]
  },
  {
   "cell_type": "code",
   "execution_count": 97,
   "id": "293ee0c4-bda1-40ca-9b57-4ba95a08c684",
   "metadata": {},
   "outputs": [
    {
     "name": "stdout",
     "output_type": "stream",
     "text": [
      "sample  2.mdb\n",
      "sample  3.mdb\n",
      "sample.mdb\n",
      "0\n"
     ]
    }
   ],
   "source": [
    "import os\n",
    "from mdb_parser import MDBParser, MDBTable\n",
    "tables= []\n",
    "dir_path = \"/home/user1/Downloads/mdb_files/\"\n",
    "def mdb_dir(dir_path):\n",
    "    x = os.system(\"ls \" + dir_path)\n",
    "    # lst = list(x)\n",
    "    print(x)\n",
    "\n",
    "mdb_dir(dir_path)"
   ]
  },
  {
   "cell_type": "code",
   "execution_count": 138,
   "id": "8d99fb98-3622-4ea9-b58e-2d33957ebff2",
   "metadata": {},
   "outputs": [
    {
     "name": "stdout",
     "output_type": "stream",
     "text": [
      "Collecting pypyodbc\n",
      "  Downloading pypyodbc-1.3.6.tar.gz (24 kB)\n",
      "Requirement already satisfied: setuptools in /home/user1/anaconda3/lib/python3.9/site-packages (from pypyodbc) (58.0.4)\n",
      "Building wheels for collected packages: pypyodbc\n",
      "  Building wheel for pypyodbc (setup.py) ... \u001b[?25ldone\n",
      "\u001b[?25h  Created wheel for pypyodbc: filename=pypyodbc-1.3.6-py3-none-any.whl size=22873 sha256=43828f70db307b3742a9fbabd1efc62c10834878441a7716d100f5b01417f15d\n",
      "  Stored in directory: /home/user1/.cache/pip/wheels/4a/b0/00/a014827d8966a4b2601f6bff537634a1fe3e7b4269fe668879\n",
      "Successfully built pypyodbc\n",
      "Installing collected packages: pypyodbc\n",
      "Successfully installed pypyodbc-1.3.6\n"
     ]
    }
   ],
   "source": [
    "!pip install pypyodbc"
   ]
  },
  {
   "cell_type": "code",
   "execution_count": 140,
   "id": "6c3848c1-db12-4edf-845b-3a3657cdab73",
   "metadata": {},
   "outputs": [],
   "source": [
    "import pypyodbc as py"
   ]
  },
  {
   "cell_type": "code",
   "execution_count": null,
   "id": "65a7d067-fd5d-4902-b0ad-50c550f24a59",
   "metadata": {},
   "outputs": [],
   "source": []
  },
  {
   "cell_type": "code",
   "execution_count": 91,
   "id": "90d682ec-be8b-4400-9283-65173e7c678b",
   "metadata": {},
   "outputs": [],
   "source": [
    "import os\n",
    "from mdb_parser import MDBParser, MDBTable\n",
    "tables= []\n",
    "\n",
    "def mdb_to_txt(mdb_file):\n",
    "    db = MDBParser(file_path=mdb_file)\n",
    "    tables = db.tables\n",
    "            \n",
    "    for table in tables:\n",
    "        \n",
    "        table=table.replace(' ','_')\n",
    "        \n",
    "        csv_path = '/home/user1/Downloads/' + table + '1.csv'\n",
    "        os.system(\"touch \"+ csv_path)\n",
    "        \n",
    "        f = open(csv_path, 'w')        \n",
    "        \n",
    "        parsed_table = MDBTable(file_path=mdb_file, table=table)\n",
    "        # create the csv writer\n",
    "        writer = csv.writer(f)\n",
    "        \n",
    "        for row in parsed_table:\n",
    "            # write a row to the csv file\n",
    "            writer.writerow(row)\n",
    "            \n",
    "    # close the file\n",
    "    f.close()\n",
    "mdb_to_txt(sample)\n"
   ]
  },
  {
   "cell_type": "code",
   "execution_count": null,
   "id": "b709f066-fb54-4c1a-a67b-70310f7d4ed3",
   "metadata": {},
   "outputs": [],
   "source": [
    "import csv\n",
    "\n",
    "# open the file in the write mode\n",
    "f = open('path/to/csv_file', 'w')\n",
    "\n",
    "# create the csv writer\n",
    "writer = csv.writer(f)\n",
    "\n",
    "# write a row to the csv file\n",
    "writer.writerow(row)\n",
    "\n",
    "# close the file\n",
    "f.close()\n"
   ]
  },
  {
   "cell_type": "code",
   "execution_count": null,
   "id": "2f64d1f8-4eed-4d87-a841-e89ae62b68cb",
   "metadata": {},
   "outputs": [],
   "source": []
  },
  {
   "cell_type": "code",
   "execution_count": null,
   "id": "3fea8de8-cac7-454f-a8a5-850616e25422",
   "metadata": {},
   "outputs": [],
   "source": []
  },
  {
   "cell_type": "code",
   "execution_count": 94,
   "id": "7156174b-aed4-4735-b458-e47f70a762a7",
   "metadata": {},
   "outputs": [
    {
     "name": "stdout",
     "output_type": "stream",
     "text": [
      "['ID', 'Description', 'Type']\n",
      "['1', 'FYIcenter.com', 'FYI']\n",
      "['2', 'Active Server Pages', 'ASP']\n",
      "['3', 'JavaServer Pages', 'JSP']\n",
      "['4', 'Portable Network Graphics', 'PNG']\n",
      "['5', 'Graphics Interchange Format', 'GIF']\n",
      "['6', ' Windows Media Video', 'WMV']\n"
     ]
    }
   ],
   "source": [
    "from mdb_parser import MDBParser, MDBTable\n",
    "# path = \"/home/user1/Downloads/campaign_template1/Campaign_Template.mdb\"\n",
    "path = \"/home/user1/Downloads/sample.mdb\"\n",
    "\n",
    "db = MDBParser(file_path=path)\n",
    "\n",
    "# tables = db.tables\n",
    "# Get and print the database tables\n",
    "tables = db.tables\n",
    "\n",
    "for table in tables:\n",
    "    table=table.replace('_','__')\n",
    "    table = MDBTable(file_path=path, table=table)\n",
    "    print(table.columns)\n",
    "    for row in table:\n",
    "        print(row)\n"
   ]
  },
  {
   "cell_type": "markdown",
   "id": "a9f2ff2f-98fc-47fe-a442-1e7ced473c4c",
   "metadata": {
    "tags": []
   },
   "source": [
    "#### creating list of files in directory"
   ]
  },
  {
   "cell_type": "code",
   "execution_count": 98,
   "id": "b759e055-173b-4770-a96a-58479b3f944e",
   "metadata": {},
   "outputs": [],
   "source": [
    "def getListOfFiles(dirName):\n",
    "    # create a list of file and sub directories \n",
    "    # names in the given directory \n",
    "    listOfFile = os.listdir(dirName)\n",
    "    allFiles = list()\n",
    "    # Iterate over all the entries\n",
    "    for entry in listOfFile:\n",
    "        # Create full path\n",
    "        fullPath = os.path.join(dirName, entry)\n",
    "        # If entry is a directory then get the list of files in this directory \n",
    "        if os.path.isdir(fullPath):\n",
    "            allFiles = allFiles + getListOfFiles(fullPath)\n",
    "        else:\n",
    "            allFiles.append(fullPath)\n",
    "                \n",
    "    return allFiles"
   ]
  },
  {
   "cell_type": "code",
   "execution_count": 121,
   "id": "c94696ab-962e-4aa9-a68f-06caba8ebaff",
   "metadata": {},
   "outputs": [
    {
     "name": "stdout",
     "output_type": "stream",
     "text": [
      "['/home/user1/Downloads/mdb_files/sample.mdb', '/home/user1/Downloads/mdb_files/sample3.mdb', '/home/user1/Downloads/mdb_files/sample2.mdb']\n"
     ]
    }
   ],
   "source": [
    "dirName = \"/home/user1/Downloads/mdb_files/\";\n",
    "# Get the list of all files in directory tree at given path\n",
    "listOfFiles = getListOfFiles(dirName)\n",
    "print(listOfFiles)"
   ]
  },
  {
   "cell_type": "code",
   "execution_count": 131,
   "id": "76a7021a-8f51-4b71-80e1-98e3cd9fb336",
   "metadata": {},
   "outputs": [
    {
     "name": "stdout",
     "output_type": "stream",
     "text": [
      "['/home/user1/Downloads/mdb_files/sample.mdb', '/home/user1/Downloads/mdb_files/sample3.mdb', '/home/user1/Downloads/mdb_files/sample2.mdb']\n"
     ]
    }
   ],
   "source": [
    "NewlistOfFiles = []\n",
    "for i in listOfFiles:\n",
    "    NewlistOfFiles.append(i.replace(\" \",\"_\"))\n",
    "print(NewlistOfFiles)"
   ]
  },
  {
   "cell_type": "code",
   "execution_count": 135,
   "id": "7dcb93d1-c1d4-44dd-9cc1-168cb344aee9",
   "metadata": {},
   "outputs": [],
   "source": [
    "import os\n",
    "from mdb_parser import MDBParser, MDBTable\n",
    "tables= []\n",
    "\n",
    "def mdb_to_txt(mdb_file):\n",
    "    mdb_file=mdb_file.replace(' ','_')\n",
    "    print(mdb_file)\n",
    "    db = MDBParser(file_path=mdb_file)\n",
    "    \n",
    "    tables = db.tables\n",
    "            \n",
    "    for table in tables:\n",
    "        \n",
    "        table=table.replace(' ','_')\n",
    "        \n",
    "        csv_path = '/home/user1/Downloads/' + table + '1.csv'\n",
    "        os.system(\"touch \"+ csv_path)\n",
    "        \n",
    "        f = open(csv_path, 'w')        \n",
    "        \n",
    "        parsed_table = MDBTable(file_path=mdb_file, table=table)\n",
    "        # create the csv writer\n",
    "        writer = csv.writer(f)\n",
    "        \n",
    "        for row in parsed_table:\n",
    "            # write a row to the csv file\n",
    "            writer.writerow(row)\n",
    "            \n",
    "    # close the file\n",
    "    print(f\"{csv_path} created \\n\")\n",
    "    f.close()\n",
    "    \n",
    "    \n",
    "# sample = \"/home/user1/Downloads/sample.mdb\"\n",
    "# mdb_to_txt(sample)"
   ]
  },
  {
   "cell_type": "code",
   "execution_count": 136,
   "id": "db8f10eb-7a24-429f-bb56-1611aa840102",
   "metadata": {},
   "outputs": [
    {
     "name": "stdout",
     "output_type": "stream",
     "text": [
      "/home/user1/Downloads/mdb_files/sample.mdb\n",
      "/home/user1/Downloads/Sample1.csv created \n",
      "\n",
      "/home/user1/Downloads/mdb_files/sample3.mdb\n",
      "/home/user1/Downloads/Sample1.csv created \n",
      "\n",
      "/home/user1/Downloads/mdb_files/sample2.mdb\n",
      "/home/user1/Downloads/Sample1.csv created \n",
      "\n"
     ]
    }
   ],
   "source": [
    "tables= []\n",
    "for file in NewlistOfFiles:\n",
    "    mdb_to_txt(file)"
   ]
  },
  {
   "cell_type": "markdown",
   "id": "35fc0128-a3ff-4af2-932f-e48cfa908192",
   "metadata": {},
   "source": [
    "### Pan Type extraction from pan number"
   ]
  },
  {
   "cell_type": "code",
   "execution_count": 6,
   "id": "e2c7564a-bd41-4a51-ac7b-08e99155f8e5",
   "metadata": {},
   "outputs": [],
   "source": [
    "pan_dict = {\"P\":\"Person\", \"C\":\"Company\"}\n"
   ]
  },
  {
   "cell_type": "code",
   "execution_count": 63,
   "id": "adc39953-c2ef-445b-87f5-ee81476b134a",
   "metadata": {},
   "outputs": [
    {
     "name": "stdout",
     "output_type": "stream",
     "text": [
      "P\n"
     ]
    },
    {
     "data": {
      "text/plain": [
       "'Person'"
      ]
     },
     "execution_count": 63,
     "metadata": {},
     "output_type": "execute_result"
    }
   ],
   "source": [
    "name = \"KJUpJ23145\"\n",
    "\n",
    "def pan_func(args):\n",
    "    if len(args.strip()) == 10:\n",
    "        char = args[3].upper()\n",
    "        print(char)\n",
    "        if char in pan_dict.keys():\n",
    "            pan_type = pan_dict[char]\n",
    "            return pan_type\n",
    "    return \"Unknown\"\n",
    "    \n",
    "pan_func(name)   "
   ]
  },
  {
   "cell_type": "markdown",
   "id": "26a5a65f-ce41-4f96-bdb3-f9ec9c0e577c",
   "metadata": {},
   "source": [
    "### dl regex"
   ]
  },
  {
   "cell_type": "code",
   "execution_count": 78,
   "id": "8abdddeb-3f97-4f08-b8c8-a4e92395806b",
   "metadata": {},
   "outputs": [],
   "source": [
    "# dl_regex = \"(AN|AP|AR|AS|BR|CG|CH|DN|DD|DL|GA|GJ|HR|HP|JK|JH|KA|KL|LA|LD|MP|MH|MN|ML|MZ|NL|OD|OR|PY|PB|RJ|SK|TN|TS|TR|UP|UK|WB)[-/\\s][A-Z]?[0-9]{2}[-/\\s](19|20)[0-9]{9}\""
   ]
  },
  {
   "cell_type": "code",
   "execution_count": 4,
   "id": "a1839e4a-0fba-4c46-8c53-d0a400885840",
   "metadata": {},
   "outputs": [
    {
     "name": "stdout",
     "output_type": "stream",
     "text": [
      "MH26A20190009319\n",
      "match\n"
     ]
    }
   ],
   "source": [
    "import re\n",
    "\n",
    "dl_regex = \"(AN|AP|AR|AS|BR|CG|CH|DN|DD|DL|GA|GJ|HR|HP|JK|JH|KA|KL|LA|LD|MP|MH|MN|ML|MZ|NL|OD|OR|PY|PB|RJ|SK|TN|TS|TR|UP|UK|WB)[0-9]{2}[A-Z]?(19|20)[0-9]{9}\"\n",
    "clean_dl_regex = \"[^a-zA-Z0-9]\"\n",
    "\n",
    "my_dl = \"MH26@#$%A^20190009319\"\n",
    "\n",
    "clean_dl = re.sub(clean_dl_regex, r\"\",my_dl)\n",
    "print(clean_dl)\n",
    "\n",
    "regex = re.compile(dl_regex)\n",
    "if regex.search(clean_dl):\n",
    "    print(\"match\")\n",
    "else:\n",
    "    print(\"no match\")"
   ]
  },
  {
   "cell_type": "code",
   "execution_count": 28,
   "id": "40173e64-593b-4905-b643-27312bb3e9f6",
   "metadata": {},
   "outputs": [],
   "source": [
    "dl_regex = r\"\\b(AN|AP|AR|AS|BR|CG|CH|DN|DD|DL|GA|GJ|HR|HP|JK|JH|KA|KL|LA|LD|MP|MH|MN|ML|MZ|NL|OD|OR|PY|PB|RJ|SK|TN|TS|TR|UP|UK|WB)[-/\\s]?([0-9]{2})?[-/\\s]?/?[A-Z]{3}/?[0-9]{2}/?[0-9]+\\b|\\b(AN|AP|AR|AS|BR|CG|CH|DN|DD|DL|GA|GJ|HR|HP|JK|JH|KA|KL|LA|LD|MP|MH|MN|ML|MZ|NL|OD|OR|PY|PB|RJ|SK|TN|TS|TR|UP|UK|WB)[-/\\s]?[0-9]{2}[-/\\s]?[A-Z]?[-/\\s]?[0-9]{4}[-/\\s]?[0-9]+|[0-9]{4}[-/\\s]?[A-Z]{2}[-/\\s]?[0-9]{2}[-/\\s]?[A-Z][-/\\s]?[0-9]{4}|\\b[0-9]+(AN|AP|AR|AS|BR|CG|CH|DN|DD|DL|GA|GJ|HR|HP|JK|JH|KA|KL|LA|LD|MP|MH|MN|ML|MZ|NL|OD|OR|PY|PB|RJ|SK|TN|TS|TR|UP|UK|WB)[0-9]+|\\b(AN|AP|AR|AS|BR|CG|CH|DN|DD|DL|GA|GJ|HR|HP|JK|JH|KA|KL|LA|LD|MP|MH|MN|ML|MZ|NL|OR|PY|PB|RJ|SK|TN|TS|TR|UP|UK|WB)o[0-9]+\\b|\\b(AN|AP|AR|AS|BR|CG|CH|DN|DD|DL|GA|GJ|HR|HP|JK|JH|KA|KL|LA|LD|MP|MH|MN|ML|MZ|NL|OD|OR|PY|PB|RJ|SK|TN|TS|TR|UP|UK|WB)[-/\\s]?([0-9]{2})?[-/\\s]([0-9]{2})?[-/\\s]?[0-9]+\\b\""
   ]
  },
  {
   "cell_type": "code",
   "execution_count": 29,
   "id": "4643c482-197e-4906-9038-066ae60b5b85",
   "metadata": {},
   "outputs": [
    {
     "data": {
      "text/plain": [
       "'\\\\b(AN|AP|AR|AS|BR|CG|CH|DN|DD|DL|GA|GJ|HR|HP|JK|JH|KA|KL|LA|LD|MP|MH|MN|ML|MZ|NL|OD|OR|PY|PB|RJ|SK|TN|TS|TR|UP|UK|WB)[-/\\\\s]?([0-9]{2})?[-/\\\\s]?/?[A-Z]{3}/?[0-9]{2}/?[0-9]+\\\\b|\\\\b(AN|AP|AR|AS|BR|CG|CH|DN|DD|DL|GA|GJ|HR|HP|JK|JH|KA|KL|LA|LD|MP|MH|MN|ML|MZ|NL|OD|OR|PY|PB|RJ|SK|TN|TS|TR|UP|UK|WB)[-/\\\\s]?[0-9]{2}[-/\\\\s]?[A-Z]?[-/\\\\s]?[0-9]{4}[-/\\\\s]?[0-9]+|[0-9]{4}[-/\\\\s]?[A-Z]{2}[-/\\\\s]?[0-9]{2}[-/\\\\s]?[A-Z][-/\\\\s]?[0-9]{4}|\\\\b[0-9]+(AN|AP|AR|AS|BR|CG|CH|DN|DD|DL|GA|GJ|HR|HP|JK|JH|KA|KL|LA|LD|MP|MH|MN|ML|MZ|NL|OD|OR|PY|PB|RJ|SK|TN|TS|TR|UP|UK|WB)[0-9]+|\\\\b(AN|AP|AR|AS|BR|CG|CH|DN|DD|DL|GA|GJ|HR|HP|JK|JH|KA|KL|LA|LD|MP|MH|MN|ML|MZ|NL|OR|PY|PB|RJ|SK|TN|TS|TR|UP|UK|WB)o[0-9]+\\\\b|\\\\b(AN|AP|AR|AS|BR|CG|CH|DN|DD|DL|GA|GJ|HR|HP|JK|JH|KA|KL|LA|LD|MP|MH|MN|ML|MZ|NL|OD|OR|PY|PB|RJ|SK|TN|TS|TR|UP|UK|WB)[-/\\\\s]?([0-9]{2})?[-/\\\\s]([0-9]{2})?[-/\\\\s]?[0-9]+\\\\b'"
      ]
     },
     "execution_count": 29,
     "metadata": {},
     "output_type": "execute_result"
    }
   ],
   "source": [
    "dl_regex"
   ]
  },
  {
   "cell_type": "code",
   "execution_count": 32,
   "id": "795e1126-c89c-4be4-bb8e-8236bc818b7d",
   "metadata": {},
   "outputs": [],
   "source": [
    "import re\n",
    "def driving_licence_validation(arguments):\n",
    "    if arguments is not None:\n",
    "        driving_licence = re.sub('[\\\\?,$;#:”/.*@!&]','',arguments)\n",
    "        # print(driving_licence)\n",
    "        # if len(driving_licence) > 1 and driving_licence[2] != '-':\n",
    "            # driving_licence1 = ' '.join([driving_licence[i:i+4] for i in range(0,4,4)])\n",
    "            # driving_licence = driving_licence1+\" \"+\"\".join([driving_licence[i] for i in range(4,len(driving_licence))])\n",
    "        print(driving_licence)\n",
    "        # valid_dl = re.search('^(([A-Z]{2}[0-9]{2})( )|([A-Z]{2}-[0-9]{2}))((19|20)[0-9][0-9])[0-9]{7}$', driving_licence)\n",
    "        valid_dl = re.search(dl_regex,driving_licence)\n",
    "        if valid_dl != None:\n",
    "            return driving_licence\n",
    "        else:\n",
    "            return driving_licence + \" invalid driving licence number\"\n"
   ]
  },
  {
   "cell_type": "code",
   "execution_count": 33,
   "id": "b0baaa78-dc3b-48b9-9b29-fdc1db0a04ad",
   "metadata": {},
   "outputs": [
    {
     "name": "stdout",
     "output_type": "stream",
     "text": [
      "MH-26-2019-0009319\n",
      "MH-26-2019-0009319\n"
     ]
    }
   ],
   "source": [
    "print(driving_licence_validation(\"MH-26-2019-@@@0009319\"))"
   ]
  },
  {
   "cell_type": "markdown",
   "id": "3095a9d8-17f7-4494-a90a-7c99ac56ed43",
   "metadata": {},
   "source": [
    "### phone validation"
   ]
  },
  {
   "cell_type": "code",
   "execution_count": 76,
   "id": "a3215467-591f-4475-9bd5-0028e3e2e12b",
   "metadata": {},
   "outputs": [],
   "source": [
    "import phonenumbers\n",
    "def phoneNumValidation(phone):\n",
    "    try:\n",
    "        my_num = phonenumbers.parse(phone)\n",
    "        print(my_num)\n",
    "        c = phonenumbers.country_code_for_region(my_num)\n",
    "        # print(my_num,c)\n",
    "    except:\n",
    "        return phone"
   ]
  },
  {
   "cell_type": "code",
   "execution_count": 77,
   "id": "f4cd1e13-bbe0-4fa6-b3f3-cc1cb57799c1",
   "metadata": {},
   "outputs": [
    {
     "name": "stdout",
     "output_type": "stream",
     "text": [
      "Country Code: 91 National Number: 8177992436\n"
     ]
    },
    {
     "data": {
      "text/plain": [
       "'+918177992436'"
      ]
     },
     "execution_count": 77,
     "metadata": {},
     "output_type": "execute_result"
    }
   ],
   "source": [
    "phoneNumValidation(\"+918177992436\")"
   ]
  },
  {
   "cell_type": "code",
   "execution_count": 78,
   "id": "e6eac60b-326b-4c7f-93e5-8067fc96c149",
   "metadata": {},
   "outputs": [],
   "source": [
    "phone_regex = \"^[6-9]{1}[0-9]{9}$\"\n",
    "all_punc = \"[^0-9]\"\n",
    "def phone_val(original_phone):\n",
    "    try:\n",
    "        phone = re.sub(all_punc,r\"\",original_phone)\n",
    "        if len(str(phone)) <=12:\n",
    "            clean_mob = phone[-10:]\n",
    "            if re.search(phone_regex,clean_mob):\n",
    "                return clean_mob + \" valid\"\n",
    "            return original_phone + \" invalid\"\n",
    "        return original_phone + \" invalid\"\n",
    "    except:\n",
    "        return original_phone + \" invalid\"          "
   ]
  },
  {
   "cell_type": "code",
   "execution_count": 79,
   "id": "77977ed8-75b4-49df-a3aa-fdae244e8233",
   "metadata": {},
   "outputs": [
    {
     "data": {
      "text/plain": [
       "'8959506886 valid'"
      ]
     },
     "execution_count": 79,
     "metadata": {},
     "output_type": "execute_result"
    }
   ],
   "source": [
    "phone_val(\"8959506886\")"
   ]
  },
  {
   "cell_type": "code",
   "execution_count": 80,
   "id": "c66948b0-9ec8-4242-a494-222b615f447d",
   "metadata": {},
   "outputs": [
    {
     "data": {
      "text/plain": [
       "'8177992430 valid'"
      ]
     },
     "execution_count": 80,
     "metadata": {},
     "output_type": "execute_result"
    }
   ],
   "source": [
    "phone_val(\"+08177992430\")"
   ]
  },
  {
   "cell_type": "code",
   "execution_count": 81,
   "id": "957f5754-1164-4a40-93e2-f19bb6c733fd",
   "metadata": {},
   "outputs": [
    {
     "data": {
      "text/plain": [
       "'8177992436 valid'"
      ]
     },
     "execution_count": 81,
     "metadata": {},
     "output_type": "execute_result"
    }
   ],
   "source": [
    "phone_val(\"98177992436\")"
   ]
  },
  {
   "cell_type": "markdown",
   "id": "cb3dcc66-5c19-480f-847b-e77df47aa343",
   "metadata": {},
   "source": [
    "### Gender validation"
   ]
  },
  {
   "cell_type": "code",
   "execution_count": 45,
   "id": "23698845-ca25-420d-9f98-e3bd18fd30e1",
   "metadata": {},
   "outputs": [],
   "source": [
    "#pip install difflib"
   ]
  },
  {
   "cell_type": "code",
   "execution_count": 47,
   "id": "b4e071e2-75f8-4feb-b514-24aae6046863",
   "metadata": {},
   "outputs": [],
   "source": [
    "dl_regex = \"\\b(AN|AP|AR|AS|BR|CG|CH|DN|DD|DL|GA|GJ|HR|HP|JK|JH|KA|KL|LA|LD|MP|MH|MN|ML|MZ|NL|OD|OR|PY|PB|RJ|SK|TN|TS|TR|UP|UK|WB)[-/\\s]?([0-9]{2})?[-/\\s]?/?[A-Z]{3}/?[0-9]{2}/?[0-9]+\\b|\\b(AN|AP|AR|AS|BR|CG|CH|DN|DD|DL|GA|GJ|HR|HP|JK|JH|KA|KL|LA|LD|MP|MH|MN|ML|MZ|NL|OD|OR|PY|PB|RJ|SK|TN|TS|TR|UP|UK|WB)[-/\\s]?[0-9]{2}[-/\\s]?[A-Z]?[-/\\s]?[0-9]{4}[-/\\s]?[0-9]+|[0-9]{4}[-/\\s]?[A-Z]{2}[-/\\s]?[0-9]{2}[-/\\s]?[A-Z][-/\\s]?[0-9]{4}|\\b[0-9]+(AN|AP|AR|AS|BR|CG|CH|DN|DD|DL|GA|GJ|HR|HP|JK|JH|KA|KL|LA|LD|MP|MH|MN|ML|MZ|NL|OD|OR|PY|PB|RJ|SK|TN|TS|TR|UP|UK|WB)[0-9]+|\\b(AN|AP|AR|AS|BR|CG|CH|DN|DD|DL|GA|GJ|HR|HP|JK|JH|KA|KL|LA|LD|MP|MH|MN|ML|MZ|NL|OR|PY|PB|RJ|SK|TN|TS|TR|UP|UK|WB)o[0-9]+\\b|\\b(AN|AP|AR|AS|BR|CG|CH|DN|DD|DL|GA|GJ|HR|HP|JK|JH|KA|KL|LA|LD|MP|MH|MN|ML|MZ|NL|OD|OR|PY|PB|RJ|SK|TN|TS|TR|UP|UK|WB)[-/\\s]?([0-9]{2})?[-/\\s]([0-9]{2})?[-/\\s]?[0-9]+\\b\""
   ]
  },
  {
   "cell_type": "code",
   "execution_count": 6,
   "id": "c3de8192-6433-4faf-a602-3cad3b1014d5",
   "metadata": {},
   "outputs": [],
   "source": [
    "import re\n",
    "def driving_licence_validation(arguments):\n",
    "    if arguments is not None:\n",
    "        driving_licence = re.sub(r'[\\\\?,$;#:”/.*@!&]',r'',arguments)\n",
    "        # print(driving_licence)\n",
    "        # if len(driving_licence) > 1 and driving_licence[2] != '-':\n",
    "            # driving_licence1 = ' '.join([driving_licence[i:i+4] for i in range(0,4,4)])\n",
    "            # driving_licence = driving_licence1+\" \"+\"\".join([driving_licence[i] for i in range(4,len(driving_licence))])\n",
    "        print(driving_licence)\n",
    "        # valid_dl = re.search('^(([A-Z]{2}[0-9]{2})( )|([A-Z]{2}-[0-9]{2}))((19|20)[0-9][0-9])[0-9]{7}$', driving_licence)\n",
    "        valid_dl = re.search(dl_regex,driving_licence)\n",
    "        if valid_dl != None:\n",
    "            return driving_licence\n",
    "        else:\n",
    "            return driving_licence+\" \"+\"invalid driving licence number\"\n"
   ]
  },
  {
   "cell_type": "code",
   "execution_count": 54,
   "id": "4abc2426-3bdb-419f-8b77-7be3148221da",
   "metadata": {},
   "outputs": [
    {
     "name": "stdout",
     "output_type": "stream",
     "text": [
      "TN220180001521\n",
      "TN220180001521 invalid driving licence number\n"
     ]
    }
   ],
   "source": [
    "print(driving_licence_validation(\"TN220180001521\"))"
   ]
  },
  {
   "cell_type": "code",
   "execution_count": 7,
   "id": "c1b528fc-4b84-4e87-921b-c1748a9949a7",
   "metadata": {},
   "outputs": [],
   "source": [
    "def driving_licence_validation(arguments):\n",
    "    if arguments is not None:\n",
    "        driving_licence = re.sub(r'[\\\\\\s?,$;#:”/.*@!&]',r'',arguments)\n",
    "        if len(driving_licence) > 1 and driving_licence[2] != '-':\n",
    "            driving_licence1 = ' '.join([driving_licence[i:i+4] for i in range(0,4,4)])\n",
    "            driving_licence = driving_licence1+\" \"+\"\".join([driving_licence[i] for i in range(4,len(driving_licence))])\n",
    "        valid_dl = re.search(\"\\b(AN|AP|AR|AS|BR|CG|CH|DN|DD|DL|GA|GJ|HR|HP|JK|JH|KA|KL|LA|LD|MP|MH|MN|ML|MZ|NL|OD|OR|PY|PB|RJ|SK|TN|TS|TR|UP|UK|WB)[-/\\s]?([0-9]{2})?[-/\\s]?/?[A-Z]{3}/?[0-9]{2}/?[0-9]+\\b|\\b(AN|AP|AR|AS|BR|CG|CH|DN|DD|DL|GA|GJ|HR|HP|JK|JH|KA|KL|LA|LD|MP|MH|MN|ML|MZ|NL|OD|OR|PY|PB|RJ|SK|TN|TS|TR|UP|UK|WB)[-/\\s]?[0-9]{2}[-/\\s]?[A-Z]?[-/\\s]?[0-9]{4}[-/\\s]?[0-9]+|[0-9]{4}[-/\\s]?[A-Z]{2}[-/\\s]?[0-9]{2}[-/\\s]?[A-Z][-/\\s]?[0-9]{4}|\\b[0-9]+(AN|AP|AR|AS|BR|CG|CH|DN|DD|DL|GA|GJ|HR|HP|JK|JH|KA|KL|LA|LD|MP|MH|MN|ML|MZ|NL|OD|OR|PY|PB|RJ|SK|TN|TS|TR|UP|UK|WB)[0-9]+|\\b(AN|AP|AR|AS|BR|CG|CH|DN|DD|DL|GA|GJ|HR|HP|JK|JH|KA|KL|LA|LD|MP|MH|MN|ML|MZ|NL|OR|PY|PB|RJ|SK|TN|TS|TR|UP|UK|WB)o[0-9]+\\b|\\b(AN|AP|AR|AS|BR|CG|CH|DN|DD|DL|GA|GJ|HR|HP|JK|JH|KA|KL|LA|LD|MP|MH|MN|ML|MZ|NL|OD|OR|PY|PB|RJ|SK|TN|TS|TR|UP|UK|WB)[-/\\s]?([0-9]{2})?[-/\\s]([0-9]{2})?[-/\\s]?[0-9]+\\b\", driving_licence)\n",
    "        if valid_dl != None:\n",
    "            return driving_licence\n",
    "        else:\n",
    "            return driving_licence+\" \"+\"invalid driving licence number\""
   ]
  },
  {
   "cell_type": "code",
   "execution_count": 8,
   "id": "b40a5b4e-553d-4077-a17b-a00d7a17db2d",
   "metadata": {},
   "outputs": [
    {
     "data": {
      "text/plain": [
       "'TN50 Z20100002570 invalid driving licence number'"
      ]
     },
     "execution_count": 8,
     "metadata": {},
     "output_type": "execute_result"
    }
   ],
   "source": [
    "driving_licence_validation(\"TN50Z20100002570\")"
   ]
  },
  {
   "cell_type": "code",
   "execution_count": 88,
   "id": "dfeae162-cdfc-4091-bcd7-5cf1fdcdf470",
   "metadata": {},
   "outputs": [],
   "source": [
    "dl_regex = r\"\\b(AN|AP|AR|AS|BR|CG|CH|DN|DD|DL|GA|GJ|HR|HP|JK|JH|KA|KL|LA|LD|MP|MH|MN|ML|MZ|NL|OD|OR|PY|PB|RJ|SK|TN|TS|TR|UP|UK|WB)[-/\\s]?([0-9]{2})?[-/\\s]?/?[A-Z]{3}/?[0-9]{2}/?[0-9]+\\b|\\b(AN|AP|AR|AS|BR|CG|CH|DN|DD|DL|GA|GJ|HR|HP|JK|JH|KA|KL|LA|LD|MP|MH|MN|ML|MZ|NL|OD|OR|PY|PB|RJ|SK|TN|TS|TR|UP|UK|WB)[-/\\s]?[0-9]{2}[-/\\s]?[A-Z]?[-/\\s]?[0-9]{4}[-/\\s]?[0-9]+|[0-9]{4}[-/\\s]?[A-Z]{2}[-/\\s]?[0-9]{2}[-/\\s]?[A-Z][-/\\s]?[0-9]{4}|\\b[0-9]+(AN|AP|AR|AS|BR|CG|CH|DN|DD|DL|GA|GJ|HR|HP|JK|JH|KA|KL|LA|LD|MP|MH|MN|ML|MZ|NL|OD|OR|PY|PB|RJ|SK|TN|TS|TR|UP|UK|WB)[0-9]+|\\b(AN|AP|AR|AS|BR|CG|CH|DN|DD|DL|GA|GJ|HR|HP|JK|JH|KA|KL|LA|LD|MP|MH|MN|ML|MZ|NL|OR|PY|PB|RJ|SK|TN|TS|TR|UP|UK|WB)o[0-9]+\\b|\\b(AN|AP|AR|AS|BR|CG|CH|DN|DD|DL|GA|GJ|HR|HP|JK|JH|KA|KL|LA|LD|MP|MH|MN|ML|MZ|NL|OD|OR|PY|PB|RJ|SK|TN|TS|TR|UP|UK|WB)[-/\\s]?([0-9]{2})?[-/\\s]([0-9]{2})?[-/\\s]?[0-9]+\\b\""
   ]
  },
  {
   "cell_type": "code",
   "execution_count": 89,
   "id": "bd594b03-3b1c-4a9e-968b-7d3e246fe7ba",
   "metadata": {},
   "outputs": [
    {
     "name": "stdout",
     "output_type": "stream",
     "text": [
      "\\b(AN|AP|AR|AS|BR|CG|CH|DN|DD|DL|GA|GJ|HR|HP|JK|JH|KA|KL|LA|LD|MP|MH|MN|ML|MZ|NL|OD|OR|PY|PB|RJ|SK|TN|TS|TR|UP|UK|WB)[-/\\s]?([0-9]{2})?[-/\\s]?/?[A-Z]{3}/?[0-9]{2}/?[0-9]+\\b|\\b(AN|AP|AR|AS|BR|CG|CH|DN|DD|DL|GA|GJ|HR|HP|JK|JH|KA|KL|LA|LD|MP|MH|MN|ML|MZ|NL|OD|OR|PY|PB|RJ|SK|TN|TS|TR|UP|UK|WB)[-/\\s]?[0-9]{2}[-/\\s]?[A-Z]?[-/\\s]?[0-9]{4}[-/\\s]?[0-9]+|[0-9]{4}[-/\\s]?[A-Z]{2}[-/\\s]?[0-9]{2}[-/\\s]?[A-Z][-/\\s]?[0-9]{4}|\\b[0-9]+(AN|AP|AR|AS|BR|CG|CH|DN|DD|DL|GA|GJ|HR|HP|JK|JH|KA|KL|LA|LD|MP|MH|MN|ML|MZ|NL|OD|OR|PY|PB|RJ|SK|TN|TS|TR|UP|UK|WB)[0-9]+|\\b(AN|AP|AR|AS|BR|CG|CH|DN|DD|DL|GA|GJ|HR|HP|JK|JH|KA|KL|LA|LD|MP|MH|MN|ML|MZ|NL|OR|PY|PB|RJ|SK|TN|TS|TR|UP|UK|WB)o[0-9]+\\b|\\b(AN|AP|AR|AS|BR|CG|CH|DN|DD|DL|GA|GJ|HR|HP|JK|JH|KA|KL|LA|LD|MP|MH|MN|ML|MZ|NL|OD|OR|PY|PB|RJ|SK|TN|TS|TR|UP|UK|WB)[-/\\s]?([0-9]{2})?[-/\\s]([0-9]{2})?[-/\\s]?[0-9]+\\b\n"
     ]
    }
   ],
   "source": [
    "print(dl_regex)"
   ]
  },
  {
   "cell_type": "code",
   "execution_count": 90,
   "id": "c9c26b3a-48ab-43c2-a887-0aeddf6452bc",
   "metadata": {},
   "outputs": [
    {
     "name": "stdout",
     "output_type": "stream",
     "text": [
      "match\n"
     ]
    }
   ],
   "source": [
    "if re.search(dl_regex,\"TN50Z20100002570\"):\n",
    "    print(\"match\")\n",
    "else:\n",
    "    print(\"no match\")"
   ]
  },
  {
   "cell_type": "code",
   "execution_count": 91,
   "id": "b59eebda-1704-4142-9a53-6816c32f08b8",
   "metadata": {},
   "outputs": [
    {
     "name": "stdout",
     "output_type": "stream",
     "text": [
      "<re.Match object; span=(0, 15), match='MH1220191234567'>\n"
     ]
    }
   ],
   "source": [
    "print(re.search(dl_regex,\"MH1220191234567\"))"
   ]
  },
  {
   "cell_type": "code",
   "execution_count": 73,
   "id": "e710421e-9587-4cdd-897e-b8f54a474d37",
   "metadata": {},
   "outputs": [
    {
     "data": {
      "text/plain": [
       "16"
      ]
     },
     "execution_count": 73,
     "metadata": {},
     "output_type": "execute_result"
    }
   ],
   "source": [
    "len(\"TN50Z20100002570\")"
   ]
  },
  {
   "cell_type": "code",
   "execution_count": 74,
   "id": "1f18b114-9e31-4c91-91f9-c550002c2e60",
   "metadata": {},
   "outputs": [
    {
     "data": {
      "text/plain": [
       "15"
      ]
     },
     "execution_count": 74,
     "metadata": {},
     "output_type": "execute_result"
    }
   ],
   "source": [
    "len(\"MH1220191234567\")"
   ]
  },
  {
   "cell_type": "code",
   "execution_count": null,
   "id": "d9b70b6f-1aba-4b2d-afe7-86482dc92b6b",
   "metadata": {},
   "outputs": [],
   "source": []
  },
  {
   "cell_type": "code",
   "execution_count": null,
   "id": "61d98eda",
   "metadata": {},
   "outputs": [],
   "source": []
  },
  {
   "cell_type": "code",
   "execution_count": 1,
   "id": "465d418f",
   "metadata": {},
   "outputs": [
    {
     "ename": "SyntaxError",
     "evalue": "invalid syntax (329369669.py, line 9)",
     "output_type": "error",
     "traceback": [
      "\u001b[0;36m  File \u001b[0;32m\"/tmp/ipykernel_1526817/329369669.py\"\u001b[0;36m, line \u001b[0;32m9\u001b[0m\n\u001b[0;31m    valid_dl = re.search(\"\\b(AN|AP|AR|AS|BR|CG|CH|DN|DD|DL|GA|GJ|HR|HP|JK|JH|KA|KL|LA|LD|MP|MH|MN|ML|MZ|NL|OD|OR|PY|PB|RJ|SK|TN|TS|TR|UP|UK|WB)[-/\\s]?([0-9]{2})?[-/\\s]?/?[A-Z]{3}/?[0-9]{2}/?[0-9]+\\b|\\b(AN|AP|AR|AS|BR|CG|CH|DN|DD|DL|GA|GJ|HR|HP|JK|JH|KA|KL|LA|LD|MP|MH|MN|ML|MZ|NL|OD|OR|PY|PB|RJ|SK|TN|TS|TR|UP|UK|WB)[-/\\s]?[0-9]{2}[-/\\s]?[A-Z]?[-/\\s]?[0-9]{4}[-/\\s]?[0-9]+|[0-9]{4}[-/\\s]?[A-Z]{2}[-/\\s]?[0-9]{2}[-/\\s]?[A-Z][-/\\s]?[0-9]{4}|\\b[0-9]+(AN|AP|AR|AS|BR|CG|CH|DN|DD|DL|GA|GJ|HR|HP|JK|JH|KA|KL|LA|LD|MP|MH|MN|ML|MZ|NL|OD|OR|PY|PB|RJ|SK|TN|TS|TR|UP|UK|WB)[0-9]+|\\b(AN|AP|AR|AS|BR|CG|CH|DN|DD|DL|GA|GJ|HR|HP|JK|JH|KA|KL|LA|LD|MP|MH|MN|ML|MZ|NL|OR|PY|PB|RJ|SK|TN|TS|TR|UP|UK|WB)o[0-9]+\\b|\\b(AN|AP|AR|AS|BR|CG|CH|DN|DD|DL|GA|GJ|HR|HP|JK|JH|KA|KL|LA|LD|MP|MH|MN|ML|MZ|NL|OD|OR|PY|PB|RJ|SK|TN|TS|TR|UP|UK|WB)[/\\s]?([0-9]{2})?[-/\\s]?([0-9]{2})?[-/\\s]?[0-9]+\\b\", driving_licence)\u001b[0m\n\u001b[0m    ^\u001b[0m\n\u001b[0;31mSyntaxError\u001b[0m\u001b[0;31m:\u001b[0m invalid syntax\n"
     ]
    }
   ],
   "source": [
    "def driving_licence_validation(arguments):\n",
    "    if arguments is not None:\n",
    "        driving_licence = re.sub(r'[\\\\\\s?,$;#:”/.*@!&]',r'',arguments)\n",
    "        if len(driving_licence) > 1 and driving_licence[2] != '-':\n",
    "            for i in range(0,4,4):\n",
    "                driving_licence1 = ' '.join([driving_licence[i:i+4]]) \n",
    "            for i in range(4,len(driving_licence)):\n",
    "                driving_licence = driving_licence1+\" \"+\"\".join([driving_licence[i]\n",
    "        valid_dl = re.search(\"\\b(AN|AP|AR|AS|BR|CG|CH|DN|DD|DL|GA|GJ|HR|HP|JK|JH|KA|KL|LA|LD|MP|MH|MN|ML|MZ|NL|OD|OR|PY|PB|RJ|SK|TN|TS|TR|UP|UK|WB)[-/\\s]?([0-9]{2})?[-/\\s]?/?[A-Z]{3}/?[0-9]{2}/?[0-9]+\\b|\\b(AN|AP|AR|AS|BR|CG|CH|DN|DD|DL|GA|GJ|HR|HP|JK|JH|KA|KL|LA|LD|MP|MH|MN|ML|MZ|NL|OD|OR|PY|PB|RJ|SK|TN|TS|TR|UP|UK|WB)[-/\\s]?[0-9]{2}[-/\\s]?[A-Z]?[-/\\s]?[0-9]{4}[-/\\s]?[0-9]+|[0-9]{4}[-/\\s]?[A-Z]{2}[-/\\s]?[0-9]{2}[-/\\s]?[A-Z][-/\\s]?[0-9]{4}|\\b[0-9]+(AN|AP|AR|AS|BR|CG|CH|DN|DD|DL|GA|GJ|HR|HP|JK|JH|KA|KL|LA|LD|MP|MH|MN|ML|MZ|NL|OD|OR|PY|PB|RJ|SK|TN|TS|TR|UP|UK|WB)[0-9]+|\\b(AN|AP|AR|AS|BR|CG|CH|DN|DD|DL|GA|GJ|HR|HP|JK|JH|KA|KL|LA|LD|MP|MH|MN|ML|MZ|NL|OR|PY|PB|RJ|SK|TN|TS|TR|UP|UK|WB)o[0-9]+\\b|\\b(AN|AP|AR|AS|BR|CG|CH|DN|DD|DL|GA|GJ|HR|HP|JK|JH|KA|KL|LA|LD|MP|MH|MN|ML|MZ|NL|OD|OR|PY|PB|RJ|SK|TN|TS|TR|UP|UK|WB)[/\\s]?([0-9]{2})?[-/\\s]?([0-9]{2})?[-/\\s]?[0-9]+\\b\", driving_licence)\n",
    "        if valid_dl != None:\n",
    "            return driving_licence\n",
    "        else:\n",
    "            return driving_licence+\" \"+\"invalid driving licence number\""
   ]
  },
  {
   "cell_type": "code",
   "execution_count": 68,
   "id": "d011ef26",
   "metadata": {},
   "outputs": [],
   "source": [
    "import re\n",
    "num_punc = \"[^a-zA-z\\\\s.]\"\n",
    "def clean_name(name):\n",
    "    if name is not None:\n",
    "        clean_name = re.sub(num_punc,r\"\",name.strip().lower())\n",
    "        if len(clean_name)==0:\n",
    "            return None\n",
    "        elif clean_name[1]==\".\" and clean_name[3]==\".\":\n",
    "            return clean_aname.replace(\".\",\" \").title()\n",
    "        elif clean_name.split(\".\",1)[0] in salutations:\n",
    "            only_name = clean_name.split(\".\",1)[1]\n",
    "            return only_name.replace(\".\",\" \").title()\n",
    "        else:\n",
    "            return clean_name.replace(\".\",\" \").title()"
   ]
  },
  {
   "cell_type": "code",
   "execution_count": 72,
   "id": "52d1dd3f-2c7b-411c-91a0-ece01c48c679",
   "metadata": {},
   "outputs": [],
   "source": [
    "clean_name(\"         \")"
   ]
  },
  {
   "cell_type": "code",
   "execution_count": 73,
   "id": "efbc58f0-f19a-4427-8611-e83f91ec88a1",
   "metadata": {},
   "outputs": [
    {
     "data": {
      "text/plain": [
       "'Rahul Wangawar'"
      ]
     },
     "execution_count": 73,
     "metadata": {},
     "output_type": "execute_result"
    }
   ],
   "source": [
    "clean_name(\"Rahul @@Wangawar\")"
   ]
  },
  {
   "cell_type": "code",
   "execution_count": 71,
   "id": "31cecd28-d1ff-4084-b387-fb8d83b1b0f6",
   "metadata": {},
   "outputs": [],
   "source": [
    "clean_name(None)"
   ]
  },
  {
   "cell_type": "code",
   "execution_count": null,
   "id": "ac016408-cffe-46e9-883f-88e721a8ecea",
   "metadata": {},
   "outputs": [],
   "source": []
  },
  {
   "cell_type": "code",
   "execution_count": null,
   "id": "364daec8-d0a5-4197-b3a0-a7fca83dff1f",
   "metadata": {},
   "outputs": [],
   "source": []
  }
 ],
 "metadata": {
  "kernelspec": {
   "display_name": "Python 3 (ipykernel)",
   "language": "python",
   "name": "python3"
  },
  "language_info": {
   "codemirror_mode": {
    "name": "ipython",
    "version": 3
   },
   "file_extension": ".py",
   "mimetype": "text/x-python",
   "name": "python",
   "nbconvert_exporter": "python",
   "pygments_lexer": "ipython3",
   "version": "3.9.7"
  }
 },
 "nbformat": 4,
 "nbformat_minor": 5
}
