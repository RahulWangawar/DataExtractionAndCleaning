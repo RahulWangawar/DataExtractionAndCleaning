{
 "cells": [
  {
   "cell_type": "code",
   "execution_count": 1,
   "id": "e9c76482",
   "metadata": {},
   "outputs": [],
   "source": [
    "import pandas as pd\n",
    "\n",
    "df = pd.read_excel(\"Town_Codes_2001.xls\")\n",
    "df = df.replace('[^\\w\\s]','',regex=True)"
   ]
  },
  {
   "cell_type": "code",
   "execution_count": 2,
   "id": "76d9069a",
   "metadata": {},
   "outputs": [
    {
     "data": {
      "text/html": [
       "<div>\n",
       "<style scoped>\n",
       "    .dataframe tbody tr th:only-of-type {\n",
       "        vertical-align: middle;\n",
       "    }\n",
       "\n",
       "    .dataframe tbody tr th {\n",
       "        vertical-align: top;\n",
       "    }\n",
       "\n",
       "    .dataframe thead th {\n",
       "        text-align: right;\n",
       "    }\n",
       "</style>\n",
       "<table border=\"1\" class=\"dataframe\">\n",
       "  <thead>\n",
       "    <tr style=\"text-align: right;\">\n",
       "      <th></th>\n",
       "      <th>Sl. No.</th>\n",
       "      <th>City/Town</th>\n",
       "      <th>Urban Status</th>\n",
       "      <th>State Code</th>\n",
       "      <th>State</th>\n",
       "      <th>District Code</th>\n",
       "      <th>District</th>\n",
       "    </tr>\n",
       "  </thead>\n",
       "  <tbody>\n",
       "    <tr>\n",
       "      <th>0</th>\n",
       "      <td>1</td>\n",
       "      <td>1 SGM</td>\n",
       "      <td>CT</td>\n",
       "      <td>8</td>\n",
       "      <td>Rajasthan</td>\n",
       "      <td>1</td>\n",
       "      <td>Ganganagar</td>\n",
       "    </tr>\n",
       "    <tr>\n",
       "      <th>1</th>\n",
       "      <td>2</td>\n",
       "      <td>3 STR</td>\n",
       "      <td>CT</td>\n",
       "      <td>8</td>\n",
       "      <td>Rajasthan</td>\n",
       "      <td>1</td>\n",
       "      <td>Ganganagar</td>\n",
       "    </tr>\n",
       "    <tr>\n",
       "      <th>2</th>\n",
       "      <td>3</td>\n",
       "      <td>AThirumuruganpoondi</td>\n",
       "      <td>TP</td>\n",
       "      <td>33</td>\n",
       "      <td>Tamil Nadu</td>\n",
       "      <td>12</td>\n",
       "      <td>Coimbatore</td>\n",
       "    </tr>\n",
       "    <tr>\n",
       "      <th>3</th>\n",
       "      <td>4</td>\n",
       "      <td>AVellalapatti</td>\n",
       "      <td>TP</td>\n",
       "      <td>33</td>\n",
       "      <td>Tamil Nadu</td>\n",
       "      <td>24</td>\n",
       "      <td>Madurai</td>\n",
       "    </tr>\n",
       "    <tr>\n",
       "      <th>4</th>\n",
       "      <td>5</td>\n",
       "      <td>Aadityana</td>\n",
       "      <td>CT</td>\n",
       "      <td>24</td>\n",
       "      <td>Gujarat</td>\n",
       "      <td>11</td>\n",
       "      <td>Porbandar</td>\n",
       "    </tr>\n",
       "    <tr>\n",
       "      <th>5</th>\n",
       "      <td>6</td>\n",
       "      <td>Aambaliyasan</td>\n",
       "      <td>CT</td>\n",
       "      <td>24</td>\n",
       "      <td>Gujarat</td>\n",
       "      <td>4</td>\n",
       "      <td>Mahesana</td>\n",
       "    </tr>\n",
       "    <tr>\n",
       "      <th>6</th>\n",
       "      <td>7</td>\n",
       "      <td>Aantaliya</td>\n",
       "      <td>CT</td>\n",
       "      <td>24</td>\n",
       "      <td>Gujarat</td>\n",
       "      <td>24</td>\n",
       "      <td>Navsari</td>\n",
       "    </tr>\n",
       "    <tr>\n",
       "      <th>7</th>\n",
       "      <td>8</td>\n",
       "      <td>Aarambhada</td>\n",
       "      <td>CT</td>\n",
       "      <td>24</td>\n",
       "      <td>Gujarat</td>\n",
       "      <td>10</td>\n",
       "      <td>Jamnagar</td>\n",
       "    </tr>\n",
       "    <tr>\n",
       "      <th>8</th>\n",
       "      <td>9</td>\n",
       "      <td>Abhayapuri</td>\n",
       "      <td>TC</td>\n",
       "      <td>18</td>\n",
       "      <td>Assam</td>\n",
       "      <td>4</td>\n",
       "      <td>Bongaigaon</td>\n",
       "    </tr>\n",
       "    <tr>\n",
       "      <th>9</th>\n",
       "      <td>10</td>\n",
       "      <td>Abiramam</td>\n",
       "      <td>TP</td>\n",
       "      <td>33</td>\n",
       "      <td>Tamil Nadu</td>\n",
       "      <td>27</td>\n",
       "      <td>Ramanathapuram</td>\n",
       "    </tr>\n",
       "    <tr>\n",
       "      <th>10</th>\n",
       "      <td>11</td>\n",
       "      <td>Abohar</td>\n",
       "      <td>MCl</td>\n",
       "      <td>3</td>\n",
       "      <td>Punjab</td>\n",
       "      <td>11</td>\n",
       "      <td>Firozpur</td>\n",
       "    </tr>\n",
       "    <tr>\n",
       "      <th>11</th>\n",
       "      <td>12</td>\n",
       "      <td>Abrama</td>\n",
       "      <td>CT</td>\n",
       "      <td>24</td>\n",
       "      <td>Gujarat</td>\n",
       "      <td>25</td>\n",
       "      <td>Valsad</td>\n",
       "    </tr>\n",
       "    <tr>\n",
       "      <th>12</th>\n",
       "      <td>13</td>\n",
       "      <td>Abu Road</td>\n",
       "      <td>M</td>\n",
       "      <td>8</td>\n",
       "      <td>Rajasthan</td>\n",
       "      <td>19</td>\n",
       "      <td>Sirohi</td>\n",
       "    </tr>\n",
       "    <tr>\n",
       "      <th>13</th>\n",
       "      <td>14</td>\n",
       "      <td>Achabal</td>\n",
       "      <td>NAC</td>\n",
       "      <td>1</td>\n",
       "      <td>Jammu  Kashmir</td>\n",
       "      <td>6</td>\n",
       "      <td>Anantnag</td>\n",
       "    </tr>\n",
       "    <tr>\n",
       "      <th>14</th>\n",
       "      <td>15</td>\n",
       "      <td>Achalpur</td>\n",
       "      <td>MCl</td>\n",
       "      <td>27</td>\n",
       "      <td>Maharashtra</td>\n",
       "      <td>7</td>\n",
       "      <td>Amravati</td>\n",
       "    </tr>\n",
       "    <tr>\n",
       "      <th>15</th>\n",
       "      <td>16</td>\n",
       "      <td>Achampudur</td>\n",
       "      <td>TP</td>\n",
       "      <td>33</td>\n",
       "      <td>Tamil Nadu</td>\n",
       "      <td>29</td>\n",
       "      <td>Tirunelveli</td>\n",
       "    </tr>\n",
       "    <tr>\n",
       "      <th>16</th>\n",
       "      <td>17</td>\n",
       "      <td>Acharapakkam</td>\n",
       "      <td>TP</td>\n",
       "      <td>33</td>\n",
       "      <td>Tamil Nadu</td>\n",
       "      <td>3</td>\n",
       "      <td>Kancheepuram</td>\n",
       "    </tr>\n",
       "    <tr>\n",
       "      <th>17</th>\n",
       "      <td>18</td>\n",
       "      <td>Acharipallam</td>\n",
       "      <td>TP</td>\n",
       "      <td>33</td>\n",
       "      <td>Tamil Nadu</td>\n",
       "      <td>30</td>\n",
       "      <td>Kanniyakumari</td>\n",
       "    </tr>\n",
       "    <tr>\n",
       "      <th>18</th>\n",
       "      <td>19</td>\n",
       "      <td>Achhalda</td>\n",
       "      <td>NP</td>\n",
       "      <td>9</td>\n",
       "      <td>Uttar Pradesh</td>\n",
       "      <td>32</td>\n",
       "      <td>Auraiya</td>\n",
       "    </tr>\n",
       "    <tr>\n",
       "      <th>19</th>\n",
       "      <td>20</td>\n",
       "      <td>Achhnera</td>\n",
       "      <td>MB</td>\n",
       "      <td>9</td>\n",
       "      <td>Uttar Pradesh</td>\n",
       "      <td>15</td>\n",
       "      <td>Agra</td>\n",
       "    </tr>\n",
       "  </tbody>\n",
       "</table>\n",
       "</div>"
      ],
      "text/plain": [
       "    Sl. No.            City/Town Urban Status  State Code           State  \\\n",
       "0         1                1 SGM           CT           8       Rajasthan   \n",
       "1         2                3 STR           CT           8       Rajasthan   \n",
       "2         3  AThirumuruganpoondi           TP          33      Tamil Nadu   \n",
       "3         4        AVellalapatti           TP          33      Tamil Nadu   \n",
       "4         5            Aadityana           CT          24         Gujarat   \n",
       "5         6         Aambaliyasan           CT          24         Gujarat   \n",
       "6         7            Aantaliya           CT          24         Gujarat   \n",
       "7         8           Aarambhada           CT          24         Gujarat   \n",
       "8         9           Abhayapuri           TC          18           Assam   \n",
       "9        10             Abiramam           TP          33      Tamil Nadu   \n",
       "10       11               Abohar          MCl           3          Punjab   \n",
       "11       12               Abrama           CT          24         Gujarat   \n",
       "12       13             Abu Road            M           8       Rajasthan   \n",
       "13       14              Achabal          NAC           1  Jammu  Kashmir   \n",
       "14       15             Achalpur          MCl          27     Maharashtra   \n",
       "15       16           Achampudur           TP          33      Tamil Nadu   \n",
       "16       17         Acharapakkam           TP          33      Tamil Nadu   \n",
       "17       18         Acharipallam           TP          33      Tamil Nadu   \n",
       "18       19             Achhalda           NP           9   Uttar Pradesh   \n",
       "19       20             Achhnera           MB           9   Uttar Pradesh   \n",
       "\n",
       "   District Code        District  \n",
       "0              1      Ganganagar  \n",
       "1              1      Ganganagar  \n",
       "2             12      Coimbatore  \n",
       "3             24         Madurai  \n",
       "4             11       Porbandar  \n",
       "5              4        Mahesana  \n",
       "6             24         Navsari  \n",
       "7             10        Jamnagar  \n",
       "8              4      Bongaigaon  \n",
       "9             27  Ramanathapuram  \n",
       "10            11        Firozpur  \n",
       "11            25          Valsad  \n",
       "12            19          Sirohi  \n",
       "13             6        Anantnag  \n",
       "14             7        Amravati  \n",
       "15            29     Tirunelveli  \n",
       "16             3    Kancheepuram  \n",
       "17            30   Kanniyakumari  \n",
       "18            32         Auraiya  \n",
       "19            15            Agra  "
      ]
     },
     "execution_count": 2,
     "metadata": {},
     "output_type": "execute_result"
    }
   ],
   "source": [
    "df.head(20)"
   ]
  },
  {
   "cell_type": "code",
   "execution_count": 23,
   "id": "ee83b756",
   "metadata": {},
   "outputs": [],
   "source": [
    "city = df['City/Town'].str.strip().tolist()\n",
    "city = [s.lower().strip() for s in city]\n",
    "\n",
    "state = df['State'].str.strip().tolist()\n",
    "state = [s.lower().strip() for s in state]\n",
    "\n",
    "district = df['District'].str.strip().tolist()\n",
    "district = [s.lower().strip() for s in district]\n",
    "\n",
    "city=set(city)\n",
    "city.add(\"mumbai\")\n",
    "state=set(state)\n",
    "district=set(district)\n",
    "\n",
    "# same = city.intersection(district)\n",
    "# city = city-same\n",
    "# same1 = city.intersection(state)\n",
    "# city = city-same1\n",
    "\n",
    "dict1 = list(zip(city,state))\n",
    "cities={}\n",
    "for i in dict1:\n",
    "    cities[i[0]]=i[1]\n",
    "cities['Mumbai'] = 'Maharashtra'"
   ]
  },
  {
   "cell_type": "code",
   "execution_count": 39,
   "id": "9bacea6b-7f84-420d-916b-a4317993e698",
   "metadata": {},
   "outputs": [],
   "source": [
    "def address(location):\n",
    "    loc = location.split(\",\")\n",
    "    loc1=[]\n",
    "    for i in loc:\n",
    "        loc1.append(i.lower().strip())\n",
    "    loc = set(loc)\n",
    "    common1 = city.intersection(loc1)\n",
    "    common2 = district.intersection(loc1)\n",
    "    common3 = state.intersection(loc1)\n",
    "    final = ', '.join(common1)+' '+', '.join(common2)+\" \"+', '.join(common3)\n",
    "    final= final.strip()\n",
    "    if(len(common1)>1 or len(common2)>1 or len(common3)>1):\n",
    "        return \" \"\n",
    "    elif cities.get(final) is not None:\n",
    "        final = final+\" \"+str(cities.get(final))\n",
    "        print(final)\n",
    "        return final\n",
    "    elif final!='':\n",
    "        print(final)\n",
    "        return final\n",
    "    else:\n",
    "        return location"
   ]
  },
  {
   "cell_type": "code",
   "execution_count": 5,
   "id": "8b925c12-4b1b-4978-9747-72d21dfbdc1d",
   "metadata": {},
   "outputs": [],
   "source": [
    "from geopy.geocoders import Nominatim\n",
    "\n",
    "\n",
    "def locFinder(l):\n",
    "    try:\n",
    "        geolocator = Nominatim(user_agent=\"sample app\")\n",
    "        address=[]\n",
    "        data = geolocator.geocode(l)\n",
    "        Lat = data.point.latitude\n",
    "        Long = data.point.longitude\n",
    "        locn = geolocator.reverse([Lat, Long],language='en')\n",
    "        address.append(locn.raw['address'].get('country'))\n",
    "        address.append(locn.raw['address'].get('state'))\n",
    "        address.append(locn.raw['address'].get('city'))\n",
    "        return address\n",
    "    except:\n",
    "        return [None,None,None]"
   ]
  },
  {
   "cell_type": "code",
   "execution_count": 42,
   "id": "cfd37158-cfcb-4053-a35f-743b5ae580d1",
   "metadata": {},
   "outputs": [],
   "source": [
    "location = 'gujarat'"
   ]
  },
  {
   "cell_type": "code",
   "execution_count": 43,
   "id": "3487a72e-0fcc-4c9d-9c8d-888dd5ba32f7",
   "metadata": {},
   "outputs": [
    {
     "name": "stdout",
     "output_type": "stream",
     "text": [
      "gujarat\n"
     ]
    },
    {
     "data": {
      "text/plain": [
       "'gujarat'"
      ]
     },
     "execution_count": 43,
     "metadata": {},
     "output_type": "execute_result"
    }
   ],
   "source": [
    "address(location)"
   ]
  },
  {
   "cell_type": "code",
   "execution_count": 44,
   "id": "1dacdecd-450d-442f-a5d3-6b85b9188d30",
   "metadata": {},
   "outputs": [
    {
     "name": "stdout",
     "output_type": "stream",
     "text": [
      "gujarat\n"
     ]
    },
    {
     "data": {
      "text/plain": [
       "['India', 'Gujarat', None]"
      ]
     },
     "execution_count": 44,
     "metadata": {},
     "output_type": "execute_result"
    }
   ],
   "source": [
    "locFinder(address(location))"
   ]
  },
  {
   "cell_type": "code",
   "execution_count": 34,
   "id": "43969f1c",
   "metadata": {},
   "outputs": [
    {
     "name": "stdout",
     "output_type": "stream",
     "text": [
      "1\n"
     ]
    }
   ],
   "source": [
    "for i in city:\n",
    "    if i == \"pune\":\n",
    "        print(1)"
   ]
  },
  {
   "cell_type": "code",
   "execution_count": 35,
   "id": "15967255-6c4a-4683-bef4-c9ed5fe7bfd7",
   "metadata": {},
   "outputs": [
    {
     "data": {
      "text/plain": [
       "['India', 'Maharashtra', 'Pune']"
      ]
     },
     "execution_count": 35,
     "metadata": {},
     "output_type": "execute_result"
    }
   ],
   "source": [
    "locFinder('poona')"
   ]
  },
  {
   "cell_type": "code",
   "execution_count": 63,
   "id": "8317bb3e-7023-47b6-a767-789ab7439a2c",
   "metadata": {},
   "outputs": [
    {
     "data": {
      "text/plain": [
       "'jharkhand'"
      ]
     },
     "execution_count": 63,
     "metadata": {},
     "output_type": "execute_result"
    }
   ],
   "source": []
  },
  {
   "cell_type": "code",
   "execution_count": 2,
   "id": "305152dd-9c50-46c7-9a88-b347cc0127c5",
   "metadata": {},
   "outputs": [],
   "source": [
    "#! pip install geopy"
   ]
  },
  {
   "cell_type": "code",
   "execution_count": null,
   "id": "4e4b838d-1ee0-4b44-a2b3-0f0d3da40a5a",
   "metadata": {},
   "outputs": [],
   "source": []
  }
 ],
 "metadata": {
  "kernelspec": {
   "display_name": "Python 3 (ipykernel)",
   "language": "python",
   "name": "python3"
  },
  "language_info": {
   "codemirror_mode": {
    "name": "ipython",
    "version": 3
   },
   "file_extension": ".py",
   "mimetype": "text/x-python",
   "name": "python",
   "nbconvert_exporter": "python",
   "pygments_lexer": "ipython3",
   "version": "3.9.7"
  }
 },
 "nbformat": 4,
 "nbformat_minor": 5
}
